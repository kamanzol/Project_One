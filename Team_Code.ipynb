{
 "cells": [
  {
   "cell_type": "markdown",
   "metadata": {},
   "source": [
    "# -.-.-.-.-. Angela's code BEGINS Here -.-.-.-.-."
   ]
  },
  {
   "cell_type": "code",
   "execution_count": null,
   "metadata": {},
   "outputs": [],
   "source": [
    "%matplotlib notebook\n",
    "import pandas as pd\n",
    "import numpy as np\n",
    "import matplotlib.pyplot as plt\n",
    "import requests\n",
    "import json\n",
    "from pprint import pprint\n",
    "import warnings\n",
    "import gmaps\n",
    "import scipy.stats as sts\n",
    "warnings.filterwarnings('ignore')\n",
    "from matplotlib.pyplot import figure"
   ]
  },
  {
   "cell_type": "code",
   "execution_count": null,
   "metadata": {},
   "outputs": [],
   "source": [
    "#Read in data files as .csv files\n",
    "mort_data_by_region = pd.read_csv(\"data/adult_mort_by_region.csv\")\n",
    "mort_data_by_country = pd.read_csv(\"data/adult_mort_by_country.csv\")\n",
    "country_centroids = pd.read_csv(\"data/country_centroids.csv\")\n",
    "gdp_data = pd.read_csv(\"data/GDP last 50.csv\")\n",
    "lifex_data = pd.read_csv(\"data/Life_Expectancy.csv\")\n",
    "gdpmort= pd.read_csv(\"data/xyz.csv\")"
   ]
  },
  {
   "cell_type": "markdown",
   "metadata": {},
   "source": [
    "## Adult morality rate reflects the probability of dying between 15 and 60 years of age per population of 1000."
   ]
  },
  {
   "cell_type": "markdown",
   "metadata": {},
   "source": [
    "## Mortality Data by Region"
   ]
  },
  {
   "cell_type": "code",
   "execution_count": null,
   "metadata": {},
   "outputs": [],
   "source": [
    "#Display cleaned-up dataframe of mortality by region\n",
    "mort_data_by_region = mort_data_by_region.rename(columns = {\n",
    "    \"Unnamed: 0\": \"Region\", \"Unnamed: 1\" : \"Year\", \"Adult mortality rate (probability of dying between 15 and 60 years per 1000 population)\" : \"Adult Mortality Rate, Both Sexes\", \"Adult mortality rate (probability of dying between 15 and 60 years per 1000 population).1\" : \"Adult Mortality Rate, Male\", \"Adult mortality rate (probability of dying between 15 and 60 years per 1000 population).2\" : \"Adult Mortality Rate, Female\"\n",
    "})\n",
    "mort_data_by_region = mort_data_by_region.dropna(axis=0)\n",
    "mort_data_by_region.head()"
   ]
  },
  {
   "cell_type": "code",
   "execution_count": null,
   "metadata": {},
   "outputs": [],
   "source": [
    "gdp_df = pd.DataFrame(gdp_data)\n",
    "gdp_df\n",
    "reduced_gdp_df = gdp_df[[\"Series Name\", \"Country Name\", \"Country Code\", \"2000 [YR2000]\", \"2001 [YR2001]\", \"2002 [YR2002]\", \"2003 [YR2003]\", \"2004 [YR2004]\", \"2005 [YR2005]\", \"2006 [YR2006]\", \"2007 [YR2007]\", \"2008 [YR2008]\", \"2009 [YR2009]\", \"2010 [YR2010]\", \"2011 [YR2011]\", \"2012 [YR2012]\", \"2013 [YR2013]\", \"2014 [YR2014]\", \"2015 [YR2015]\",\"2016 [YR2016]\"]]\n",
    "reduced_gdp_df\n",
    "reduced_gdp_df = reduced_gdp_df.rename(columns={\"Country Code\": \"CountryCode\"})\n",
    "reduced_gdp_df.to_csv(\"data/reduced_gdp_df.csv\")"
   ]
  },
  {
   "cell_type": "code",
   "execution_count": null,
   "metadata": {},
   "outputs": [],
   "source": [
    "#Convert region mortality rate to numeric\n",
    "mort_data_by_region[\"Adult Mortality Rate, Both Sexes\"] = pd.to_numeric(mort_data_by_region[\"Adult Mortality Rate, Both Sexes\"], errors='coerce')"
   ]
  },
  {
   "cell_type": "code",
   "execution_count": null,
   "metadata": {},
   "outputs": [],
   "source": [
    "xy = mort_data_by_region.groupby([\"Region\"]).mean()\n",
    "xy_df = pd.DataFrame(xy)\n",
    "xy_df\n",
    "region_avgs = xy_df.rename(columns=\n",
    "                           {\"Adult Mortality Rate, Both Sexes\": \"Average Mortality Rate\"})\n",
    "region_avgs = round(region_avgs,1)\n",
    "region_avgs = region_avgs.drop(\"WHO region\")\n",
    "region_avgs"
   ]
  },
  {
   "cell_type": "code",
   "execution_count": null,
   "metadata": {},
   "outputs": [],
   "source": [
    "regions = region_avgs.index\n",
    "x_axis = regions\n",
    "reg_avg_rts = region_avgs[\"Average Mortality Rate\"]\n",
    "f, ax = plt.subplots(figsize=(9,9), facecolor=(1, 1, 1))\n",
    "plt.bar(x_axis, reg_avg_rts, color=\"darkblue\", edgecolor=\"yellowgreen\", linewidth=3, align=\"center\")\n",
    "tick_locations = [value for value in x_axis]\n",
    "plt.xticks(rotation=45)\n",
    "plt.ylabel(\"Average Mortality Rates\", fontsize=15)\n",
    "plt.title(\"17-year Average Mortality Rates by Region\", fontsize=15)\n",
    "plt.margins(0.2)\n",
    "plt.show()\n",
    "plt.savefig(\"Images/17YrAvgRegion.png\")"
   ]
  },
  {
   "cell_type": "markdown",
   "metadata": {},
   "source": [
    "## Mortality Data by COUNTRY"
   ]
  },
  {
   "cell_type": "code",
   "execution_count": null,
   "metadata": {},
   "outputs": [],
   "source": [
    "#Display cleaned-up dataframe of mortality by country\n",
    "mort_data_by_country = mort_data_by_country.rename(columns = {\"Unnamed: 0\" : \"Country\", \"Unnamed: 1\" : \"Year\", \"Adult mortality rate (probability \\\n",
    "of dying between 15 and 60 years per 1000 population)\" : \"Adult Mortality Rate, Both Sexes\", \"Adult mortality rate \\\n",
    "(probability of dying between 15 and 60 years per 1000 population).1\" : \"Adult Mortality Rate, Male\", \"Adult mortality rate \\\n",
    "(probability of dying between 15 and 60 years per 1000 population).2\" : \"Adult Mortality Rate, Female\"    \n",
    "})\n",
    "mort_data_by_country\n",
    "mort_data_by_country = mort_data_by_country.dropna(axis=0)\n",
    "mort_data_by_country.head()"
   ]
  },
  {
   "cell_type": "code",
   "execution_count": null,
   "metadata": {},
   "outputs": [],
   "source": [
    "#Convert country mortality rate to numeric\n",
    "mort_data_by_country[\"Adult Mortality Rate, Both Sexes\"] = pd.to_numeric(mort_data_by_country[\"Adult Mortality Rate, Both Sexes\"], errors= 'coerce')"
   ]
  },
  {
   "cell_type": "code",
   "execution_count": null,
   "metadata": {},
   "outputs": [],
   "source": [
    "#Find overall (17 year) low:\n",
    "low_mort_value = mort_data_by_country[\"Adult Mortality Rate, Both Sexes\"].min()\n",
    "low_mort_value\n",
    "low_country = mort_data_by_country.loc[(mort_data_by_country[\"Adult Mortality Rate, Both Sexes\"] == 49)]\n",
    "low_country = low_country[\"Country\"]\n",
    "low_country\n",
    "print(f\"The lowest mortality rate recorded over 17 years was {low_mort_value} in {low_country}\")"
   ]
  },
  {
   "cell_type": "code",
   "execution_count": null,
   "metadata": {},
   "outputs": [],
   "source": [
    "#Find overall (17 year) High:\n",
    "hi_mort_value = mort_data_by_country[\"Adult Mortality Rate, Both Sexes\"].max()\n",
    "hi_mort_value\n",
    "hi_country = mort_data_by_country.loc[(mort_data_by_country[\"Adult Mortality Rate, Both Sexes\"] == 697)]\n",
    "hi_country = hi_country[\"Country\"]\n",
    "hi_country\n",
    "print(f\"The highest mortality rate recorded over 17 years was {hi_mort_value} in {hi_country}\")"
   ]
  },
  {
   "cell_type": "code",
   "execution_count": null,
   "metadata": {},
   "outputs": [],
   "source": [
    "#Call in centroid data for heat map (b/c Google api not working)\n",
    "centroids_df = pd.DataFrame(country_centroids)\n",
    "centroids_df.head()"
   ]
  },
  {
   "cell_type": "code",
   "execution_count": null,
   "metadata": {},
   "outputs": [],
   "source": [
    "rate_over17yrs = mort_data_by_country.groupby([\"Country\"]).mean()\n",
    "avg_rate_over17yrs = rate_over17yrs.rename(columns= {\"Adult Mortality Rate, Both Sexes\": \"Average Mortality Rate 2000-2016\"})\n",
    "avg_rate_over17yrs[\"Average Mortality Rate 2000-2016\"] = round(avg_rate_over17yrs[\"Average Mortality Rate 2000-2016\"], 2)\n",
    "avg_rate_df = pd.DataFrame(avg_rate_over17yrs)\n",
    "avg_rate_df.head()"
   ]
  },
  {
   "cell_type": "code",
   "execution_count": null,
   "metadata": {},
   "outputs": [],
   "source": [
    "merged_table = pd.merge(avg_rate_df, centroids_df, on=\"Country\", how=\"left\")\n",
    "merged_table\n",
    "merged_table = merged_table.dropna()\n",
    "merged_table\n",
    "merged_table.to_csv(\"output_data/merged_table.csv\")\n",
    "merged_table.head(25)"
   ]
  },
  {
   "cell_type": "code",
   "execution_count": null,
   "metadata": {},
   "outputs": [],
   "source": [
    "from config import google_api_key\n",
    "gmaps.configure(api_key = google_api_key)\n",
    "locations = merged_table[[\"latitude\",\"longitude\"]]\n",
    "rates = merged_table[\"Average Mortality Rate 2000-2016\"]                          \n",
    "fig = gmaps.figure(map_type=\"HYBRID\", center=[0,0], zoom_level = 2)\n",
    "heat_layer = gmaps.heatmap_layer(locations, weights=rates, dissipating=False, max_intensity=50, point_radius=3)\n",
    "fig.add_layer(heat_layer)\n",
    "plt.savefig(\"Images/GlobalMortalityHeatMap.png\")\n",
    "fig"
   ]
  },
  {
   "cell_type": "markdown",
   "metadata": {},
   "source": [
    "### Heat map of average adult mortality rates around the world based on a 17-year average."
   ]
  },
  {
   "cell_type": "code",
   "execution_count": null,
   "metadata": {},
   "outputs": [],
   "source": [
    "country_rate_by_year = mort_data_by_country.groupby([\"Country\", \"Year\"]).mean()\n",
    "country_rate_by_year\n",
    "yrly_avg = country_rate_by_year.rename(columns = {\"Adult Mortality Rate, Both Sexes\" : \"Annual Average\"})\n",
    "yrly_avg = yrly_avg.reset_index(\"Country\")\n",
    "yrly_avg\n",
    "us_yrly_avg = yrly_avg.loc[yrly_avg[\"Country\"] == \"United States of America\"]\n",
    "us_yrly_avg\n",
    "af_yrly_avg = yrly_avg.loc[yrly_avg[\"Country\"] == \"Afghanistan\"]\n",
    "af_yrly_avg\n",
    "ukr_yrly_avg = yrly_avg.loc[yrly_avg[\"Country\"] == \"Ukraine\"]\n",
    "ukr_yrly_avg\n",
    "prc_yrly_avg = yrly_avg.loc[yrly_avg[\"Country\"] == \"China\"]\n",
    "prc_yrly_avg\n",
    "gu_yrly_avg = yrly_avg.loc[yrly_avg[\"Country\"]== \"Guatemala\"]\n",
    "gu_yrly_avg\n",
    "lib_yrly_avg = yrly_avg.loc[yrly_avg[\"Country\"]== \"Liberia\"]\n",
    "lib_yrly_avg\n",
    "ind_yrly_avg = yrly_avg.loc[yrly_avg[\"Country\"] == \"India\"]\n",
    "ind_yrly_avg\n",
    "sm_yrly_avg = yrly_avg.loc[yrly_avg[\"Country\"] == \"Somalia\"]\n",
    "sm_yrly_avg\n",
    "br_yrly_avg = yrly_avg.loc[yrly_avg[\"Country\"] == \"Brazil\"]\n",
    "br_yrly_avg\n",
    "ger_yrly_avg = yrly_avg.loc[yrly_avg[\"Country\"]== \"Germany\"]\n",
    "ger_yrly_avg"
   ]
  },
  {
   "cell_type": "code",
   "execution_count": null,
   "metadata": {},
   "outputs": [],
   "source": [
    "data_2016 = mort_data_by_country.loc[(mort_data_by_country[\"Year\"]==\"2016\")]\n",
    "data_2016 = data_2016.rename(columns= {\"Adult Mortality Rate, Both Sexes\": \"2016 Adult Mort. Rate, Both Sexes\"})\n",
    "round(data_2016.describe(), 2)\n",
    "\n",
    "data_2014 = mort_data_by_country.loc[(mort_data_by_country[\"Year\"]==\"2014\")]\n",
    "data_2014 = data_2014.rename(columns= {\"Adult Mortality Rate, Both Sexes\": \"2014 Adult Mort. Rate, Both Sexes\"})\n",
    "round(data_2014.describe(), 2)\n",
    "\n",
    "data_2012 = mort_data_by_country.loc[(mort_data_by_country[\"Year\"]==\"2012\")]\n",
    "data_2012 = data_2012.rename(columns= {\"Adult Mortality Rate, Both Sexes\": \"2012 Adult Mort. Rate, Both Sexes\"})\n",
    "round(data_2012.describe(), 2)\n",
    "\n",
    "data_2010 = mort_data_by_country.loc[(mort_data_by_country[\"Year\"]==\"2010\")]\n",
    "data_2010 = data_2010.rename(columns= {\"Adult Mortality Rate, Both Sexes\": \"2010 Adult Mort. Rate, Both Sexes\"})\n",
    "round(data_2010.describe(), 2)\n",
    "\n",
    "data_2008 = mort_data_by_country.loc[(mort_data_by_country[\"Year\"]==\"2008\")]\n",
    "data_2008 = data_2008.rename(columns= {\"Adult Mortality Rate, Both Sexes\": \"2008 Adult Mort. Rate, Both Sexes\"})\n",
    "round(data_2008.describe(), 2)\n",
    "\n",
    "data_2006 = mort_data_by_country.loc[(mort_data_by_country[\"Year\"]==\"2006\")]\n",
    "data_2006 = data_2006.rename(columns= {\"Adult Mortality Rate, Both Sexes\": \"2006 Adult Mort. Rate, Both Sexes\"})\n",
    "round(data_2006.describe(), 2)\n",
    "\n",
    "data_2004 = mort_data_by_country.loc[(mort_data_by_country[\"Year\"]==\"2004\")]\n",
    "data_2004 = data_2004.rename(columns= {\"Adult Mortality Rate, Both Sexes\": \"2004 Adult Mort. Rate, Both Sexes\"})\n",
    "round(data_2004.describe(), 2)\n",
    "\n",
    "data_2002 = mort_data_by_country.loc[(mort_data_by_country[\"Year\"]==\"2002\")]\n",
    "data_2002 = data_2002.rename(columns= {\"Adult Mortality Rate, Both Sexes\": \"2002 Adult Mort. Rate, Both Sexes\"})\n",
    "round(data_2002.describe(), 2)\n",
    "\n",
    "data_2000 = mort_data_by_country.loc[(mort_data_by_country[\"Year\"]==\"2000\")]\n",
    "data_2000 = data_2000.rename(columns= {\"Adult Mortality Rate, Both Sexes\": \"2000 Adult Mort. Rate, Both Sexes\"})\n",
    "round(data_2000.describe(), 2)"
   ]
  },
  {
   "cell_type": "code",
   "execution_count": null,
   "metadata": {},
   "outputs": [],
   "source": [
    "years = [2000,2001,2002,2003,2004,2005,2006,2007,2008,2009,2010,2011,2012,2013,2014,2015,2016]\n",
    "us_values = us_yrly_avg[\"Annual Average\"]\n",
    "prc_values = prc_yrly_avg[\"Annual Average\"]\n",
    "ind_values = ind_yrly_avg[\"Annual Average\"]\n",
    "af_values = af_yrly_avg[\"Annual Average\"]\n",
    "br_values = br_yrly_avg[\"Annual Average\"]\n",
    "sm_values = sm_yrly_avg[\"Annual Average\"]\n",
    "lib_values = lib_yrly_avg[\"Annual Average\"] \n",
    "ger_values = ger_yrly_avg[\"Annual Average\"]\n",
    "us_handle, = plt.plot(years, us_values, marker=\"^\", color=\"darkblue\", label=\"USA\")\n",
    "prc_handle = plt.plot(years, prc_values, color=\"red\", label = \"China\")\n",
    "ind_handle = plt.plot(years, ind_values, marker = \"o\", color=\"brown\", label = \"India\")\n",
    "af_handle = plt.plot(years, af_values, marker=\"*\", color=\"gray\", label = \"Afghanistan\")\n",
    "br_handle = plt.plot(years, br_values, marker=\"+\", color='green', label=\"Brazil\")\n",
    "sm_handle = plt.plot(years, sm_values, marker=\".\", color=\"yellowgreen\", label=\"Somalia\")\n",
    "lib_handle = plt.plot(years, lib_values, color=\"purple\", label=\"Liberia\")\n",
    "ger_handle = plt.plot(years, ger_values, marker = \"x\", color = \"black\", label = \"Germany\")\n",
    "plt.legend(loc=(1.1,0.4))\n",
    "plt.xlabel(\"Year\", fontsize=14)\n",
    "plt.ylabel(\"Average Mortality Rate\", fontsize=14)\n",
    "plt.grid()\n",
    "plt.ylim(25, 600)\n",
    "plt.title(\"Mortality Rate Timeseries by Country\", fontsize=14)\n",
    "plt.savefig(\"Images/TimeseriesByCountry.png\", bbox_inches = 'tight', pad_inches=1.0)\n",
    "plt.show()"
   ]
  },
  {
   "cell_type": "code",
   "execution_count": null,
   "metadata": {},
   "outputs": [],
   "source": [
    "data_2000_low = data_2000[\"2000 Adult Mort. Rate, Both Sexes\"].min()\n",
    "data_2000_low\n",
    "data_2000_hi = data_2000[\"2000 Adult Mort. Rate, Both Sexes\"].max()\n",
    "data_2000_hi\n",
    "data_2000_avg = data_2000[\"2000 Adult Mort. Rate, Both Sexes\"].mean()\n",
    "data_2000_avg\n",
    "data_2016_low = data_2016[\"2016 Adult Mort. Rate, Both Sexes\"].min()\n",
    "data_2016_low\n",
    "data_2016_hi = data_2016[\"2016 Adult Mort. Rate, Both Sexes\"].max()\n",
    "data_2016_hi\n",
    "data_2016_avg = data_2016[\"2016 Adult Mort. Rate, Both Sexes\"].mean()\n",
    "data_2016_avg\n",
    "print(f\"In 2000 the mean mortality rate worldwide was {round(data_2000_avg,1)}/1000 people, or ~22%\")\n",
    "print(f\"In 2000 the lowest mortality rate on record was {data_2000_low} and the highest mortality rate on record was {data_2000_hi}\")\n",
    "print(f\"In 2016 the mean mortality rate worldwide was {round(data_2016_avg,1)}/1000 people, or ~16%\")\n",
    "print(f\"In 2016 the lowest mortality rate on record was {data_2016_low} and the highest mortality rate on record was {data_2016_hi}\")"
   ]
  },
  {
   "cell_type": "code",
   "execution_count": null,
   "metadata": {},
   "outputs": [],
   "source": [
    "gdpmort_df = pd.DataFrame(gdpmort)\n",
    "gdpmort_df = gdpmort_df.dropna()\n",
    "gdpmort_df.head()\n",
    "from scipy.stats import linregress\n",
    "mean_gdp = gdpmort_df[\"Avg_GDP\"].mean()\n",
    "median_gdp = gdpmort_df[\"Avg_GDP\"].median()\n",
    "print(f\"Mean GDP over the 17 yr period=  {mean_gdp*10000000}.\")\n",
    "print(f\"Median GDP over the 17 yr period=  {median_gdp*10000000}.\")\n",
    "print(\"GDP is not normally distributed; outliers are skewing the mean GDP.\")\n",
    "print(sts.normaltest(gdpmort_df[\"Avg_GDP\"].sample(50)))"
   ]
  },
  {
   "cell_type": "markdown",
   "metadata": {},
   "source": [
    "### GDP is not normally distributed."
   ]
  },
  {
   "cell_type": "code",
   "execution_count": null,
   "metadata": {},
   "outputs": [],
   "source": [
    "%matplotlib inline\n",
    "x = gdpmort_df[\"Avg_GDP\"]\n",
    "y = gdpmort_df[\"Avg_Mort\"]\n",
    "plt.scatter(x, y, marker=\"o\", color=\"b\")\n",
    "plt.xlim(0, 50000)\n",
    "plt.ylim(0, 750)\n",
    "plt.xlabel(\"GDP (x10,000,000)\", fontsize=15)\n",
    "plt.ylabel(\"Mortality Rate (per 1000)\", fontsize=15)\n",
    "plt.title(\"Avg Mortality vs. Avg GDP, 2000-2016\", fontsize=15)\n",
    "plt.margins(0.2)\n",
    "(slope, intercept, rvalue, pvalue, stderr) = linregress(x, y)\n",
    "regress_values = x * slope + intercept\n",
    "line_eq = \"y = \" + str(round(slope,2)) + \"x + \" + str(round(intercept,2))\n",
    "plt.plot(x, regress_values,\"r-\")\n",
    "plt.annotate(line_eq,(25000,610),fontsize=15,color=\"red\")\n",
    "print(f\"r = {rvalue}\")\n",
    "plt.savefig(\"Images/MortVsGDP.png\")\n",
    "var_gdpmort = np.var(gdpmort_df[\"Avg_GDP\"], ddof=0)\n",
    "sd_gdpmort = np.std(gdpmort_df[\"Avg_GDP\"], ddof=0)\n",
    "print(f\"The population variance is {var_gdpmort}, and the standard deviation is {sd_gdpmort}\")  \n",
    "print(\"Overall there is almost no correlation between Mortality Rate and GDP over the same 17-year period. Because outlying values are skewing the GDP high this plot is displaying mortality rates for only those GDP values within a range that is equidistant from the median GDP.\")\n",
    "plt.show()"
   ]
  },
  {
   "cell_type": "code",
   "execution_count": null,
   "metadata": {},
   "outputs": [],
   "source": [
    "fig, ax1 = plt.subplots()\n",
    "ax1.set_title('GDP BoxPlot', fontsize=14)\n",
    "ax1.boxplot(gdpmort_df[\"Avg_GDP\"], showmeans=True, notch=True)\n",
    "                       \n",
    "fig, ax2 = plt.subplots()\n",
    "ax2.set_title('Mortality BoxPlot', fontsize=14)\n",
    "ax2.boxplot(gdpmort_df[\"Avg_Mort\"], showmeans=True, notch=True)\n",
    "plt.margins(0.2)\n",
    "plt.savefig(\"Images/box_plots.png\")\n",
    "plt.show()\n",
    "#-----------------Angela's code ENDS-----------------------"
   ]
  },
  {
   "cell_type": "markdown",
   "metadata": {},
   "source": [
    "## -.-.-.-.-. Angela's code ENDS Here -.-.-.-.-."
   ]
  },
  {
   "cell_type": "markdown",
   "metadata": {},
   "source": [
    "# -.-.-.-.-. Katie's code BEGINS Here -.-.-.-.-."
   ]
  },
  {
   "cell_type": "markdown",
   "metadata": {},
   "source": [
    "### NOTE: Life expectancy at birth indicates the number of years a newborn infant would live if prevailing patterns of mortality at the time of its birth were to stay the same throughout its life."
   ]
  },
  {
   "cell_type": "code",
   "execution_count": null,
   "metadata": {},
   "outputs": [],
   "source": [
    "#Dependencies\n",
    "\n",
    "import os\n",
    "import matplotlib.pyplot as plt\n",
    "import pandas as pd\n",
    "import numpy as np\n",
    "from scipy.stats import linregress\n",
    "import seaborn as sns\n",
    "from scipy import stats"
   ]
  },
  {
   "cell_type": "code",
   "execution_count": null,
   "metadata": {},
   "outputs": [],
   "source": [
    "#Import csv file - Life Expectancy.  This is for all countries 2000-2015\n",
    "# https://www.kaggle.com/kumarajarshi/life-expectancy-who/version/1\n",
    "\n",
    "#Import csv file - Life Expectancy since 1970 (44 countries)\n",
    "csv_path = \"Resources/Life_Expectancy.csv\"\n",
    "csv_path_2 = \"Resources/GDP_1970_to_2018.csv\"\n",
    "csv_path_3 = \"Resources/Life_1970.csv\"\n",
    "\n",
    "life_exp = pd.read_csv(csv_path)\n",
    "gdp_data = pd.read_csv(csv_path_2)\n",
    "life_exp_1970 = pd.read_csv(csv_path_3)"
   ]
  },
  {
   "cell_type": "code",
   "execution_count": null,
   "metadata": {},
   "outputs": [],
   "source": [
    "#clean-up csv\n",
    "\n",
    "reduced_life = life_exp[[\"Country\",\"Year\",\"Status\",\"Life expectancy \"]]\n",
    "cleaned_life = reduced_life.rename(columns={\"Life expectancy \":\"Life Expectancy\", \"Country\":\"Country Name\"})\n",
    "cleaned_life.head()"
   ]
  },
  {
   "cell_type": "code",
   "execution_count": null,
   "metadata": {},
   "outputs": [],
   "source": [
    "##life expectancy over time 2000-2015 with all countries\n",
    "\n",
    "cleaned_life.groupby('Year')['Life Expectancy'].mean().plot(kind='line')\n",
    "plt.title(\"Life Expectancy Between 2000-2015\")\n",
    "plt.xlabel(\"Year\")\n",
    "plt.ylabel(\"Life Expectancy (Age in Years)\")\n",
    "\n",
    "#plt.savefig(\"LifeExp_overtime.png\", bbox_inches = 'tight', pad_inches = 1.0)\n",
    "plt.show()"
   ]
  },
  {
   "cell_type": "code",
   "execution_count": null,
   "metadata": {},
   "outputs": [],
   "source": [
    "# Get mean life expectancy for all countries\n",
    "\n",
    "cleaned_life.groupby([\"Year\"]).mean()"
   ]
  },
  {
   "cell_type": "code",
   "execution_count": null,
   "metadata": {},
   "outputs": [],
   "source": [
    "#Add GDP mean\n",
    "\n",
    "gdp_summary_df = gdp_data.describe()\n",
    "gdp_summary_df = gdp_summary_df.T\n",
    "gdp_summary_df = gdp_summary_df.reset_index()\n",
    "gdp_summary_df = gdp_summary_df.rename(columns={'index':'Year'})\n",
    "gdp_summary_df.dropna()\n",
    "gdp_summary_df.head()"
   ]
  },
  {
   "cell_type": "code",
   "execution_count": null,
   "metadata": {},
   "outputs": [],
   "source": [
    "#Update life expectancy file so that Year is not an index and is able to merge with GDP file\n",
    "\n",
    "new_life = cleaned_life.groupby([\"Year\"]).mean()\n",
    "new_life.reset_index(level=0, inplace=True)\n",
    "new_life.head()"
   ]
  },
  {
   "cell_type": "code",
   "execution_count": null,
   "metadata": {},
   "outputs": [],
   "source": [
    "#Update gdp summary file so that the Year column is integer and can merge with life expectancy\n",
    "\n",
    "gdp_summary_df['Year']=gdp_summary_df['Year'].astype(int)"
   ]
  },
  {
   "cell_type": "code",
   "execution_count": null,
   "metadata": {},
   "outputs": [],
   "source": [
    "#Merge life expectancy and gdp file by year\n",
    "\n",
    "life_gdp_merge = pd.merge(new_life, gdp_summary_df, on='Year')\n",
    "life_gdp_merge.head()"
   ]
  },
  {
   "cell_type": "code",
   "execution_count": null,
   "metadata": {},
   "outputs": [],
   "source": [
    "#Graph average life expectancy over time versus average gdp\n",
    "x_values = life_gdp_merge['Life Expectancy']\n",
    "y_values = life_gdp_merge['mean']\n",
    "y_values = y_values.fillna(0)\n",
    "(slope, intercept, rvalue, pvalue, stderr) = linregress(x_values, y_values)\n",
    "regress_values = x_values * slope + intercept\n",
    "line_eq = \"y = \" + str(round(slope,2)) + \"x + \" + str(round(intercept,2))\n",
    "plt.scatter(x_values,y_values, alpha=0.5)\n",
    "plt.plot(x_values,regress_values,\"r-\")\n",
    "plt.annotate(line_eq,(69,20),fontsize=14,color=\"red\")\n",
    "plt.title(\"Life Expectancy versus GDP\")\n",
    "plt.xlabel(\"Life Expectancy\")\n",
    "plt.ylabel(\"GDP (Billion USD)\")\n",
    "print(f\"The r-squared is: {rvalue}\")\n",
    "\n",
    "#plt.savefig(\"LifeExp_vs_GDP.png\", bbox_inches = 'tight', pad_inches = 1.0)\n",
    "\n",
    "plt.show()"
   ]
  },
  {
   "cell_type": "code",
   "execution_count": null,
   "metadata": {},
   "outputs": [],
   "source": [
    "#Optional add (for fun)\n",
    "\n",
    "age = 90\n",
    "print(f\"On average, for the life expectancy of {age} years old, the country GDP would have to be {round(slope * age + intercept,2)} billion USD.\")\n",
    "age2 = 100\n",
    "print(f\"On average, for the life expectancy of {age2} years old, the country GDP would have to be {round(slope * age2 + intercept,2)}. billion USD\")"
   ]
  },
  {
   "cell_type": "code",
   "execution_count": null,
   "metadata": {},
   "outputs": [],
   "source": [
    "#Life Expectancy over time for 44 countries listed in life exp file from 1970-2017.\n",
    "\n",
    "life_exp_1970.groupby('TIME')['Value'].mean().plot(kind='line')\n",
    "plt.title(\"Life Expectancy Over Time\")\n",
    "plt.xlabel(\"Year\")\n",
    "plt.ylabel(\"Life Expectancy (in Years)\")\n",
    "\n",
    "#plt.savefig(\"LifeExp_all.png\", bbox_inches = 'tight', pad_inches = 1.0)\n",
    "plt.show()"
   ]
  },
  {
   "cell_type": "code",
   "execution_count": null,
   "metadata": {},
   "outputs": [],
   "source": [
    "#Read in life expectancy from 1970 file.  File only contains 44 countries, so pulling to help show\n",
    "#USA trend\n",
    "\n",
    "usa_1970 = life_exp_1970.loc[life_exp_1970['LOCATION'] =='USA']\n",
    "usa_1970.head()"
   ]
  },
  {
   "cell_type": "code",
   "execution_count": null,
   "metadata": {},
   "outputs": [],
   "source": [
    "#life expectancy over time for both men and women in USA 1970-2017\n",
    "\n",
    "total_1970 = usa_1970.loc[usa_1970['SUBJECT'] =='TOT']\n",
    "\n",
    "total_1970.plot(x=\"TIME\", y=\"Value\", kind='line', legend=False)\n",
    "plt.title(\"Life Expectancy in USA from 1970\")\n",
    "plt.xlabel(\"Year\")\n",
    "plt.ylabel(\"Life Expectancy (in Years)\")\n",
    "#plt.savefig(\"LifeExp_USA.png\", bbox_inches = 'tight', pad_inches = 1.0)\n",
    "\n",
    "plt.show()"
   ]
  },
  {
   "cell_type": "code",
   "execution_count": null,
   "metadata": {},
   "outputs": [],
   "source": [
    "#Filter out for the year 2000 on the life exp file 2000-2015\n",
    "\n",
    "year_2000 = cleaned_life.loc[life_exp['Year'] ==2000]\n",
    "year_2000.head()"
   ]
  },
  {
   "cell_type": "code",
   "execution_count": null,
   "metadata": {},
   "outputs": [],
   "source": [
    "#Merge life expectancy for the year 2000 and gdp data\n",
    "\n",
    "merge_2000_gdp = pd.merge(year_2000, gdp_data, on='Country Name')\n",
    "merge_2000_gdp"
   ]
  },
  {
   "cell_type": "code",
   "execution_count": null,
   "metadata": {},
   "outputs": [],
   "source": [
    "merge_2000_gdp = merge_2000_gdp[merge_2000_gdp['Country Name'] != 'United States of America']\n",
    "merge_2000_gdp = merge_2000_gdp[merge_2000_gdp['Country Name'] != 'Japan']"
   ]
  },
  {
   "cell_type": "code",
   "execution_count": null,
   "metadata": {},
   "outputs": [],
   "source": [
    "#Life expectancy versus GDP in 2000\n",
    "\n",
    "x_values = merge_2000_gdp['Life Expectancy']\n",
    "y_values = merge_2000_gdp['2000']\n",
    "y_values = y_values.fillna(0)\n",
    "(slope, intercept, rvalue, pvalue, stderr) = linregress(x_values, y_values)\n",
    "regress_values = x_values * slope + intercept\n",
    "line_eq = \"y = \" + str(round(slope,2)) + \"x + \" + str(round(intercept,2))\n",
    "plt.scatter(x_values,y_values, alpha=0.5)\n",
    "plt.plot(x_values,regress_values,\"r-\")\n",
    "plt.annotate(line_eq,(40,50),fontsize=14,color=\"red\")\n",
    "plt.title(\"Life Expectancy versus GDP in 2000 - (USA/Japan removed as outliers)\")\n",
    "plt.xlabel(\"Life Expectancy (in Years)\")\n",
    "plt.ylabel(\"GDP (in Billions USD)\")\n",
    "print(f\"The r-squared is: {rvalue}\")\n",
    "\n",
    "print(f\"Slope is: {slope}\")\n",
    "\n",
    "#plt.savefig(\"LifeExp_vs_GDP_2000.png\", bbox_inches = 'tight', pad_inches = 1.0)\n",
    "\n",
    "plt.show()"
   ]
  },
  {
   "cell_type": "markdown",
   "metadata": {},
   "source": [
    "# -.-.-.-.-. Katie's code ENDS Here -.-.-.-.-."
   ]
  },
  {
   "cell_type": "markdown",
   "metadata": {},
   "source": [
    "# -.-.-.-.-. Nabeels's code BEGINS Here -.-.-.-.-."
   ]
  },
  {
   "cell_type": "code",
   "execution_count": null,
   "metadata": {},
   "outputs": [],
   "source": [
    "import pandas as pd\n",
    "import os\n",
    "import matplotlib.pyplot as plt\n",
    "import json\n",
    "import requests\n",
    "from config import g_key\n",
    "import gmaps\n",
    "import random\n",
    "from matplotlib.cm import viridis\n",
    "from matplotlib.colors import to_hex\n",
    "import gmaps.geojson_geometries\n",
    "import numpy as np\n",
    "countries_geojson = gmaps.geojson_geometries.load_geometry('countries')\n",
    "\n",
    "gmaps.configure(api_key = g_key)\n",
    "\n",
    "# Adding options to display all of the rows of DataFrame w/o truncation\n",
    "pd.set_option('display.max_rows', None)\n",
    "pd.set_option('display.max_columns', None)\n",
    "\n",
    "csv_file = os.path.join('Resources','GDP_1970_to_2018_wLatLng.csv')\n",
    "gdp_data = pd.read_csv(csv_file)"
   ]
  },
  {
   "cell_type": "code",
   "execution_count": null,
   "metadata": {},
   "outputs": [],
   "source": [
    "gdp_data.head(50)"
   ]
  },
  {
   "cell_type": "code",
   "execution_count": null,
   "metadata": {},
   "outputs": [],
   "source": [
    "gdp_summary_df = gdp_data.describe()\n",
    "gdp_summary_df = gdp_summary_df.T\n",
    "gdp_summary_df = gdp_summary_df.reset_index()\n",
    "gdp_summary_df = gdp_summary_df.rename(columns={'index':'Year'})\n",
    "gdp_summary_df"
   ]
  },
  {
   "cell_type": "markdown",
   "metadata": {},
   "source": [
    "## Mean GDP over time for the entire world"
   ]
  },
  {
   "cell_type": "code",
   "execution_count": null,
   "metadata": {},
   "outputs": [],
   "source": [
    "mean_GDP_over_time = gdp_summary_df.groupby('Year')['mean'].first()\n",
    "fig1, ax1 = plt.subplots(figsize=(8,6))\n",
    "ax1.set_title('Growth of mean GDP over time for the entire world', fontsize = 14);\n",
    "ax1.set_xlabel('Year', fontsize = 14)\n",
    "ax1.set_ylabel('Mean GDP (Billion US$)', fontsize = 14);\n",
    "ax1.set_ylim([0,50]);\n",
    "ax1.plot(mean_GDP_over_time.drop(['Latitude','Longitude']));\n",
    "ax1.plot([48],[mean_GDP_over_time['2018']],'o')\n",
    "ax1.plot([30],[mean_GDP_over_time['2000']],'o', color = 'salmon')\n",
    "ax1.plot([0],[mean_GDP_over_time['1970']],'o', color='gray')\n",
    "xticks_values = [_ for _ in range(0,50,5)];\n",
    "ax1.set_xticks(xticks_values);\n",
    "ax1.annotate(f'US$ {round(mean_GDP_over_time[\"1970\"], 2)} \\nin 1970', \\\n",
    "             xy=(-1, mean_GDP_over_time['1970']*2.25), fontsize = 12, color='gray')\n",
    "ax1.annotate('US$ 43B \\nin 2018', xy=(44, mean_GDP_over_time['2018']+1), fontsize = 12, color='black')\n",
    "ax1.annotate('US$ 16.6B \\nin 2000', xy=(30-4, mean_GDP_over_time['2000']+2), fontsize = 12, color='black')\n",
    "ax1.tick_params(axis='both', which='major', labelsize=12)\n",
    "# ax1.legend('Test', loc='right')\n",
    "\n",
    "# plt.savefig(\"Images/MeanGDP_over_time.png\", bbox_inches = 'tight', pad_inches = 1.0)\n",
    "plt.show()"
   ]
  },
  {
   "cell_type": "markdown",
   "metadata": {},
   "source": [
    "## Display countries colored with GDP values for a chosen year"
   ]
  },
  {
   "cell_type": "code",
   "execution_count": null,
   "metadata": {},
   "outputs": [],
   "source": [
    "year = input('Enter a year between 1970 - 2018:')"
   ]
  },
  {
   "cell_type": "code",
   "execution_count": null,
   "metadata": {},
   "outputs": [],
   "source": [
    "csv_file = os.path.join('Resources','GDP_1970_to_2018_wLatLng.csv')\n",
    "gdp_data = pd.read_csv(csv_file)\n",
    "\n",
    "# Pick only those country codes which correspond to the geojson string file\n",
    "common_country_names = []\n",
    "for feature in countries_geojson['features']:\n",
    "    gmap_country_name = feature['properties']['name']\n",
    "    if gmap_country_name in list(gdp_data['Country Name']):\n",
    "        common_country_names.append(gmap_country_name)\n",
    "len(common_country_names)\n",
    "\n",
    "gdp_list = []\n",
    "for country in common_country_names:\n",
    "    if country in list(gdp_data['Country Name']):\n",
    "        gdp_val = list(gdp_data[gdp_data['Country Name'] == country][year])[0]\n",
    "        temp_tuple = (country,round(gdp_val,2))\n",
    "        gdp_list.append(temp_tuple)\n",
    "country2gdp = dict(gdp_list)\n",
    "\n",
    "# We will need to scale the GDP values to lie between 0 and 1\n",
    "min_gdp = min(country2gdp.values())\n",
    "max_gdp = max(country2gdp.values())\n",
    "gdp_range = max_gdp - min_gdp\n",
    "\n",
    "def calculate_color(gdp_value):\n",
    "    \"\"\"\n",
    "    Convert the GDP coefficient to a color\n",
    "    \"\"\"\n",
    "    # make gini a number between 0 and 1\n",
    "    normalized_gdp = (gdp_value - min_gdp) / gdp_range\n",
    "\n",
    "    # invert GDP so that high inequality gives dark color\n",
    "#     inverse_gdp = 1.0 - normalized_gdp NOT INVERTING TO BRING OUT OUTLIERS\n",
    "    inverse_gdp = normalized_gdp\n",
    "\n",
    "    # transform the GDP to a matplotlib color\n",
    "    mpl_color = viridis(inverse_gdp)\n",
    "\n",
    "    # transform from a matplotlib color to a valid CSS color\n",
    "    gmaps_color = to_hex(mpl_color, keep_alpha=False)\n",
    "\n",
    "    return gmaps_color\n",
    "\n",
    "#  build an array of colors, one for each country\n",
    "colors = []\n",
    "for feature in countries_geojson['features']:\n",
    "    country_name = feature['properties']['name']\n",
    "    try:\n",
    "        gdp = country2gdp[country_name]\n",
    "        color = calculate_color(gdp)\n",
    "    except KeyError:\n",
    "        # no gdp for that country: return default color\n",
    "        color = (0, 0, 0, 0.3)\n",
    "    colors.append(color)"
   ]
  },
  {
   "cell_type": "code",
   "execution_count": null,
   "metadata": {},
   "outputs": [],
   "source": [
    "# Customize the size of the figure\n",
    "figure_layout = {\n",
    "    'width': '1000px',\n",
    "    'height': '800px',\n",
    "    'border': '1px solid black',\n",
    "    'padding': '0px',\n",
    "    'margin': '0 auto 0 auto'\n",
    "}\n",
    "fig = gmaps.figure(zoom_level = 2, center = (40,10), layout=figure_layout, display_toolbar = True)\n",
    "geojson = gmaps.geojson_layer(countries_geojson, fill_opacity=0.05, stroke_weight=2)\n",
    "fig.add_layer(geojson)\n",
    "fig\n",
    "\n",
    "gdp_layer = gmaps.geojson_layer(countries_geojson,fill_color=colors, fill_opacity = 0.8, stroke_weight=2)\n",
    "fig.add_layer(geojson)\n",
    "fig\n",
    "\n",
    "fig.add_layer(gdp_layer)\n",
    "fig\n",
    "\n",
    "coordinates = gdp_data[['Latitude','Longitude']]\n",
    "\n",
    "info_box_list = []\n",
    "for country in list(gdp_data['Country Name']):\n",
    "    try:\n",
    "        gdp_val = list(gdp_data[gdp_data['Country Name'] == country][year])[0]\n",
    "        info_box_list.append(f'{country}; US$ {round(gdp_val,2)}B')\n",
    "    except:\n",
    "        continue\n",
    "    \n",
    "symbol_layer = gmaps.symbol_layer(coordinates, \\\n",
    "                                  scale = 2, \\\n",
    "                                  fill_color='red', \\\n",
    "                                  stroke_color='red', \\\n",
    "                                 info_box_content=info_box_list)\n",
    "\n",
    "# Add layer\n",
    "fig.add_layer(symbol_layer)\n",
    "\n",
    "# Display figure\n",
    "fig"
   ]
  },
  {
   "cell_type": "markdown",
   "metadata": {},
   "source": [
    "## Mortality data for 25-34 year old Male/Female in USA for 2010 - 2017"
   ]
  },
  {
   "cell_type": "code",
   "execution_count": null,
   "metadata": {},
   "outputs": [],
   "source": [
    "# setup lists\n",
    "year_labels=[str(_) for _ in range(2010,2018,1)]\n",
    "male_deaths = []\n",
    "female_deaths = []\n",
    "male_percentage = []\n",
    "female_percentage = []\n",
    "\n",
    "for year in range(2010,2018,1):\n",
    "    csv_file = os.path.join('Resources',f'CDC_USA_{str(year)}_25-34y.csv')\n",
    "    mortality_in_USA = pd.read_csv(csv_file)\n",
    "    mortality_in_USA = mortality_in_USA.drop(['Year','Year Code','State Code', 'Crude Rate', 'Population'], axis = 1)\n",
    "    death_count = (mortality_in_USA.groupby(['Gender'])['Deaths'].sum())\n",
    "    death_percentage = (mortality_in_USA.groupby(['Gender'])['Deaths'].sum())/(mortality_in_USA['Deaths'].sum())*100\n",
    "\n",
    "    male_deaths.append(death_count['Male']/1000)\n",
    "    male_percentage.append(death_percentage['Male'])\n",
    "\n",
    "    female_deaths.append(death_count['Female']/1000)\n",
    "    female_percentage.append(death_percentage['Female'])"
   ]
  },
  {
   "cell_type": "code",
   "execution_count": null,
   "metadata": {},
   "outputs": [],
   "source": [
    "N = 8\n",
    "male_data = tuple(male_deaths)\n",
    "female_data = tuple(female_deaths)\n",
    "ind = np.arange(N)    # the x locations for the groups\n",
    "width = 0.65      # the width of the bars: can also be len(x) sequence\n",
    "\n",
    "fig, ax = plt.subplots(figsize=(8,6))\n",
    "\n",
    "p1 = ax.bar(ind, male_deaths, width)\n",
    "p2 = ax.bar(ind, female_deaths, width, bottom = male_data)\n",
    "\n",
    "# autolabel(p2)\n",
    "plt.ylabel('Number of Deaths (Thousands)',fontsize=14)\n",
    "plt.title('Deaths of 25-34 year old Male and Female in USA for 2010-2017',fontsize=14)\n",
    "plt.xticks(ind, year_labels,fontsize=14)\n",
    "# plt.yticks(np.arange(0, 81, 10))\n",
    "plt.legend((p1[0], p2[0]), ('Male', 'Female'))\n",
    "plt.tick_params(axis='both', which='major', labelsize=12)\n",
    "\n",
    "def autolabel(rects, rects2):\n",
    "    \"\"\"Attach a text label above each bar in *rects*, displaying its height.\"\"\"\n",
    "    counter = 0\n",
    "    for rect in rects:\n",
    "        height = rect.get_height() + rects2[counter].get_height() \n",
    "        ax.annotate('{}'.format(round(rect.get_height(),1)),\n",
    "                    xy=(rect.get_x() + rect.get_width() / 2, rects2[counter].get_height()*1.15),\n",
    "                    xytext=(0, 3),  # 3 points vertical offset\n",
    "                    textcoords=\"offset points\",\n",
    "                    ha='center', va='top', fontsize=12, color = 'white', weight=\"bold\")\n",
    "        counter += 1\n",
    "        \n",
    "def autolabel2(rects, rects2):\n",
    "    \"\"\"Attach a text label above each bar in *rects*, displaying its height.\"\"\"\n",
    "    counter = 0\n",
    "    for rect in rects:\n",
    "        height = rect.get_height() \n",
    "        ax.annotate('{}'.format(round(height,1)),\n",
    "                    xy=(rect.get_x() + rect.get_width() / 2, height/2),\n",
    "                    xytext=(0, 3),  # 3 points vertical offset\n",
    "                    textcoords=\"offset points\",\n",
    "                    ha='center', va='bottom', fontsize=12, color = 'white', weight=\"bold\")\n",
    "        counter += 1        \n",
    "autolabel2(p1,p2)\n",
    "autolabel(p2,p1)\n",
    "# plt.savefig(\"Images/Deaths_in_USA.png\", bbox_inches = 'tight', pad_inches = 1.0)\n",
    "plt.show()"
   ]
  },
  {
   "cell_type": "markdown",
   "metadata": {},
   "source": [
    "## Top 5 Leading causes of death for 25-34 years old Male/Female in the US in 2010 - 2017"
   ]
  },
  {
   "cell_type": "code",
   "execution_count": null,
   "metadata": {},
   "outputs": [],
   "source": [
    "# setup lists\n",
    "year_labels=[str(_) for _ in range(2010,2018,1)]\n",
    "results_dict = {}\n",
    "for year in range(2010,2018,1):\n",
    "    csv_file = os.path.join('Resources',f'CDC_USA_{str(year)}_25-34y.csv')\n",
    "    mortality_in_USA = pd.read_csv(csv_file)\n",
    "    mortality_in_USA = mortality_in_USA.drop(['Year','Year Code','State Code', 'Crude Rate', 'Population'], axis = 1)\n",
    "    death_counts_per_cause = mortality_in_USA.groupby('Cause of death')['Deaths'].sum()\n",
    "    cause_df = pd.DataFrame({'Number of Deaths':death_counts_per_cause})\n",
    "#     cause_df['Number of Deaths'].sort()\n",
    "    top_five_causes = cause_df.sort_values('Number of Deaths', ascending = False).head()\n",
    "    top_five_causes = top_five_causes.sort_values('Cause of death')\n",
    "    top_five_causes = top_five_causes = top_five_causes.reset_index()\n",
    "    results_dict.update({year:list(top_five_causes['Number of Deaths']/top_five_causes['Number of Deaths'].sum()*100)})\n",
    "top_five_causes.head()"
   ]
  },
  {
   "cell_type": "code",
   "execution_count": null,
   "metadata": {},
   "outputs": [],
   "source": [
    "category_names = ['Narcotics', 'Opioids',\n",
    "                  'Gun Violence', 'Suicide', 'Accidents']\n",
    "results = results_dict\n",
    "\n",
    "def survey(results, category_names):\n",
    "    \"\"\"\n",
    "    Parameters\n",
    "    ----------\n",
    "    results : dict\n",
    "        A mapping from question labels to a list of answers per category.\n",
    "        It is assumed all lists contain the same number of entries and that\n",
    "        it matches the length of *category_names*.\n",
    "    category_names : list of str\n",
    "        The category labels.\n",
    "    \"\"\"\n",
    "    list_of_rects = []\n",
    "    labels = list(results.keys())\n",
    "    data = np.array(list(results.values()))\n",
    "    data_cum = data.cumsum(axis=1)\n",
    "    category_colors = plt.get_cmap('RdYlGn')(\n",
    "        np.linspace(0.25, 0.75, data.shape[1]))\n",
    "\n",
    "    fig, ax = plt.subplots(figsize=(10, 8))\n",
    "    ax.invert_yaxis()\n",
    "    ax.set_xlim(0, np.sum(data, axis=1).max())\n",
    "    ax.tick_params(axis='both', which='major', labelsize=14)\n",
    "\n",
    "    for i, (colname, color) in enumerate(zip(category_names, category_colors)):\n",
    "        widths = data[:, i]        \n",
    "        starts = data_cum[:, i] - widths\n",
    "        list_of_rects.append(ax.barh(labels, widths, left=starts, height=0.5,\n",
    "                label=colname, color=color, edgecolor = 'darkgray'))\n",
    "        \n",
    "    ax.legend(ncol=len(category_names), bbox_to_anchor=(0, 0.935),\n",
    "              loc='lower left', fontsize=12, frameon = False)\n",
    "    return fig, ax, list_of_rects\n",
    "\n",
    "\n",
    "fig1, ax1, rects = survey(results, category_names)\n",
    "for _ in range(0,len(rects),1):    \n",
    "    for rect in rects[_]:\n",
    "        width = rect.get_width() \n",
    "        ax1.annotate('{}%'.format(round(width,1)),\n",
    "                    xy=(rect.get_x() + rect.get_width()/2, rect.get_y()+rect.get_height()/2),\n",
    "                    xytext=(0, 0),  # 3 points vertical offset\n",
    "                    textcoords=\"offset points\",\n",
    "                    ha='center', va='center', fontsize='12', color = 'black')\n",
    "plt.title('Top 5 leading causes of deaths for 25-34 year old Male/Female in US', fontsize = 16)\n",
    "plt.xlabel('Percentage of total deaths', fontsize = 14)\n",
    "plt.ylabel('Year', fontsize = 14)\n",
    "plt.tick_params(axis='both', which='major', labelsize=14)\n",
    "ax1.spines['left'].set_visible(False)\n",
    "ax1.spines['right'].set_visible(False)\n",
    "ax1.spines['top'].set_visible(False)\n",
    "# plt.show()    \n",
    "# plt.savefig(\"Images/Leading_causes_of_deaths_in_USA.png\", bbox_inches = 'tight', pad_inches = 1.0)\n",
    "plt.show()"
   ]
  },
  {
   "cell_type": "markdown",
   "metadata": {},
   "source": [
    "# -.-.-.-.-. Nabeels's code ENDS Here -.-.-.-.-."
   ]
  },
  {
   "cell_type": "code",
   "execution_count": null,
   "metadata": {},
   "outputs": [],
   "source": []
  }
 ],
 "metadata": {
  "kernelspec": {
   "display_name": "Python 3",
   "language": "python",
   "name": "python3"
  },
  "language_info": {
   "codemirror_mode": {
    "name": "ipython",
    "version": 3
   },
   "file_extension": ".py",
   "mimetype": "text/x-python",
   "name": "python",
   "nbconvert_exporter": "python",
   "pygments_lexer": "ipython3",
   "version": "3.6.9"
  }
 },
 "nbformat": 4,
 "nbformat_minor": 2
}
