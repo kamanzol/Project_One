{
 "cells": [
  {
   "cell_type": "code",
   "execution_count": null,
   "metadata": {},
   "outputs": [],
   "source": [
    "# Life expectancy at birth indicates the number of years a newborn infant would live if \n",
    "# prevailing patterns of mortality at the time of its birth were to stay the same throughout its life."
   ]
  },
  {
   "cell_type": "code",
   "execution_count": 1,
   "metadata": {},
   "outputs": [],
   "source": [
    "#Dependencies\n",
    "\n",
    "import os\n",
    "import matplotlib.pyplot as plt\n",
    "import pandas as pd\n",
    "import numpy as np\n",
    "from scipy.stats import linregress\n",
    "import seaborn as sns\n",
    "from scipy import stats"
   ]
  },
  {
   "cell_type": "code",
   "execution_count": 26,
   "metadata": {},
   "outputs": [],
   "source": [
    "#Import csv file - Life Expectancy.  This is for all countries 2000-2015\n",
    "# https://www.kaggle.com/kumarajarshi/life-expectancy-who/version/1\n",
    "\n",
    "#Import csv file - Life Expectancy since 1970 (44 countries)\n",
    "csv_path = \"Resources/Life_Expectancy.csv\"\n",
    "csv_path_2 = \"Resources/GDP_1970_to_2018.csv\"\n",
    "\n",
    "life_exp = pd.read_csv(csv_path)\n",
    "gdp_data = pd.read_csv(csv_path_2)\n"
   ]
  },
  {
   "cell_type": "code",
   "execution_count": 10,
   "metadata": {},
   "outputs": [
    {
     "data": {
      "text/html": [
       "<div>\n",
       "<style scoped>\n",
       "    .dataframe tbody tr th:only-of-type {\n",
       "        vertical-align: middle;\n",
       "    }\n",
       "\n",
       "    .dataframe tbody tr th {\n",
       "        vertical-align: top;\n",
       "    }\n",
       "\n",
       "    .dataframe thead th {\n",
       "        text-align: right;\n",
       "    }\n",
       "</style>\n",
       "<table border=\"1\" class=\"dataframe\">\n",
       "  <thead>\n",
       "    <tr style=\"text-align: right;\">\n",
       "      <th></th>\n",
       "      <th>Country Name</th>\n",
       "      <th>Year</th>\n",
       "      <th>Status</th>\n",
       "      <th>Life Expectancy</th>\n",
       "    </tr>\n",
       "  </thead>\n",
       "  <tbody>\n",
       "    <tr>\n",
       "      <th>0</th>\n",
       "      <td>Afghanistan</td>\n",
       "      <td>2015</td>\n",
       "      <td>Developing</td>\n",
       "      <td>65.0</td>\n",
       "    </tr>\n",
       "    <tr>\n",
       "      <th>1</th>\n",
       "      <td>Afghanistan</td>\n",
       "      <td>2014</td>\n",
       "      <td>Developing</td>\n",
       "      <td>59.9</td>\n",
       "    </tr>\n",
       "    <tr>\n",
       "      <th>2</th>\n",
       "      <td>Afghanistan</td>\n",
       "      <td>2013</td>\n",
       "      <td>Developing</td>\n",
       "      <td>59.9</td>\n",
       "    </tr>\n",
       "    <tr>\n",
       "      <th>3</th>\n",
       "      <td>Afghanistan</td>\n",
       "      <td>2012</td>\n",
       "      <td>Developing</td>\n",
       "      <td>59.5</td>\n",
       "    </tr>\n",
       "    <tr>\n",
       "      <th>4</th>\n",
       "      <td>Afghanistan</td>\n",
       "      <td>2011</td>\n",
       "      <td>Developing</td>\n",
       "      <td>59.2</td>\n",
       "    </tr>\n",
       "  </tbody>\n",
       "</table>\n",
       "</div>"
      ],
      "text/plain": [
       "  Country Name  Year      Status  Life Expectancy\n",
       "0  Afghanistan  2015  Developing             65.0\n",
       "1  Afghanistan  2014  Developing             59.9\n",
       "2  Afghanistan  2013  Developing             59.9\n",
       "3  Afghanistan  2012  Developing             59.5\n",
       "4  Afghanistan  2011  Developing             59.2"
      ]
     },
     "execution_count": 10,
     "metadata": {},
     "output_type": "execute_result"
    }
   ],
   "source": [
    "#clean-up csv\n",
    "\n",
    "reduced_life = life_exp[[\"Country\",\"Year\",\"Status\",\"Life expectancy \"]]\n",
    "cleaned_life = reduced_life.rename(columns={\"Life expectancy \":\"Life Expectancy\", \"Country\":\"Country Name\"})\n",
    "cleaned_life.head()"
   ]
  },
  {
   "cell_type": "code",
   "execution_count": 13,
   "metadata": {},
   "outputs": [
    {
     "data": {
      "image/png": "[encoded data removed]",
      "text/plain": [
       "<Figure size 432x288 with 1 Axes>"
      ]
     },
     "metadata": {
      "needs_background": "light"
     },
     "output_type": "display_data"
    }
   ],
   "source": [
    "##life expectancy over time 2000-2015 with all countries\n",
    "\n",
    "cleaned_life.groupby('Year')['Life Expectancy'].mean().plot(kind='line')\n",
    "plt.title(\"Life Expectancy Between 2000-2015\")\n",
    "plt.xlabel(\"Year\")\n",
    "plt.ylabel(\"Life Expectancy (Age in Years)\")\n",
    "\n",
    "#plt.savefig(\"LifeExp_overtime.png\", bbox_inches = 'tight', pad_inches = 1.0)\n",
    "plt.show()"
   ]
  },
  {
   "cell_type": "code",
   "execution_count": 35,
   "metadata": {},
   "outputs": [
    {
     "data": {
      "text/html": [
       "<div>\n",
       "<style scoped>\n",
       "    .dataframe tbody tr th:only-of-type {\n",
       "        vertical-align: middle;\n",
       "    }\n",
       "\n",
       "    .dataframe tbody tr th {\n",
       "        vertical-align: top;\n",
       "    }\n",
       "\n",
       "    .dataframe thead th {\n",
       "        text-align: right;\n",
       "    }\n",
       "</style>\n",
       "<table border=\"1\" class=\"dataframe\">\n",
       "  <thead>\n",
       "    <tr style=\"text-align: right;\">\n",
       "      <th></th>\n",
       "      <th>Life Expectancy</th>\n",
       "    </tr>\n",
       "    <tr>\n",
       "      <th>Year</th>\n",
       "      <th></th>\n",
       "    </tr>\n",
       "  </thead>\n",
       "  <tbody>\n",
       "    <tr>\n",
       "      <th>2000</th>\n",
       "      <td>66.750273</td>\n",
       "    </tr>\n",
       "    <tr>\n",
       "      <th>2001</th>\n",
       "      <td>67.128962</td>\n",
       "    </tr>\n",
       "    <tr>\n",
       "      <th>2002</th>\n",
       "      <td>67.351366</td>\n",
       "    </tr>\n",
       "    <tr>\n",
       "      <th>2003</th>\n",
       "      <td>67.433333</td>\n",
       "    </tr>\n",
       "    <tr>\n",
       "      <th>2004</th>\n",
       "      <td>67.646448</td>\n",
       "    </tr>\n",
       "    <tr>\n",
       "      <th>2005</th>\n",
       "      <td>68.209290</td>\n",
       "    </tr>\n",
       "    <tr>\n",
       "      <th>2006</th>\n",
       "      <td>68.667760</td>\n",
       "    </tr>\n",
       "    <tr>\n",
       "      <th>2007</th>\n",
       "      <td>69.036066</td>\n",
       "    </tr>\n",
       "    <tr>\n",
       "      <th>2008</th>\n",
       "      <td>69.427869</td>\n",
       "    </tr>\n",
       "    <tr>\n",
       "      <th>2009</th>\n",
       "      <td>69.938251</td>\n",
       "    </tr>\n",
       "    <tr>\n",
       "      <th>2010</th>\n",
       "      <td>70.048634</td>\n",
       "    </tr>\n",
       "    <tr>\n",
       "      <th>2011</th>\n",
       "      <td>70.654098</td>\n",
       "    </tr>\n",
       "    <tr>\n",
       "      <th>2012</th>\n",
       "      <td>70.916940</td>\n",
       "    </tr>\n",
       "    <tr>\n",
       "      <th>2013</th>\n",
       "      <td>71.236066</td>\n",
       "    </tr>\n",
       "    <tr>\n",
       "      <th>2014</th>\n",
       "      <td>71.536612</td>\n",
       "    </tr>\n",
       "    <tr>\n",
       "      <th>2015</th>\n",
       "      <td>71.616940</td>\n",
       "    </tr>\n",
       "  </tbody>\n",
       "</table>\n",
       "</div>"
      ],
      "text/plain": [
       "      Life Expectancy\n",
       "Year                 \n",
       "2000        66.750273\n",
       "2001        67.128962\n",
       "2002        67.351366\n",
       "2003        67.433333\n",
       "2004        67.646448\n",
       "2005        68.209290\n",
       "2006        68.667760\n",
       "2007        69.036066\n",
       "2008        69.427869\n",
       "2009        69.938251\n",
       "2010        70.048634\n",
       "2011        70.654098\n",
       "2012        70.916940\n",
       "2013        71.236066\n",
       "2014        71.536612\n",
       "2015        71.616940"
      ]
     },
     "execution_count": 35,
     "metadata": {},
     "output_type": "execute_result"
    }
   ],
   "source": [
    "#Get mean life expectancy for all countries\n",
    "\n",
    "cleaned_life.groupby([\"Year\"]).mean()"
   ]
  },
  {
   "cell_type": "code",
   "execution_count": 43,
   "metadata": {},
   "outputs": [
    {
     "data": {
      "text/plain": [
       "Year      object\n",
       "count    float64\n",
       "mean     float64\n",
       "std      float64\n",
       "min      float64\n",
       "25%      float64\n",
       "50%      float64\n",
       "75%      float64\n",
       "max      float64\n",
       "dtype: object"
      ]
     },
     "execution_count": 43,
     "metadata": {},
     "output_type": "execute_result"
    }
   ],
   "source": [
    "#Add GDP mean\n",
    "\n",
    "gdp_summary_df = gdp_data.describe()\n",
    "gdp_summary_df = gdp_summary_df.T\n",
    "gdp_summary_df = gdp_summary_df.reset_index()\n",
    "gdp_summary_df = gdp_summary_df.rename(columns={'index':'Year'})\n",
    "gdp_summary_df.dropna()\n",
    "gdp_summary_df.head()"
   ]
  },
  {
   "cell_type": "code",
   "execution_count": 41,
   "metadata": {},
   "outputs": [
    {
     "data": {
      "text/html": [
       "<div>\n",
       "<style scoped>\n",
       "    .dataframe tbody tr th:only-of-type {\n",
       "        vertical-align: middle;\n",
       "    }\n",
       "\n",
       "    .dataframe tbody tr th {\n",
       "        vertical-align: top;\n",
       "    }\n",
       "\n",
       "    .dataframe thead th {\n",
       "        text-align: right;\n",
       "    }\n",
       "</style>\n",
       "<table border=\"1\" class=\"dataframe\">\n",
       "  <thead>\n",
       "    <tr style=\"text-align: right;\">\n",
       "      <th></th>\n",
       "      <th>Year</th>\n",
       "      <th>Life Expectancy</th>\n",
       "    </tr>\n",
       "  </thead>\n",
       "  <tbody>\n",
       "    <tr>\n",
       "      <th>0</th>\n",
       "      <td>2000</td>\n",
       "      <td>66.750273</td>\n",
       "    </tr>\n",
       "    <tr>\n",
       "      <th>1</th>\n",
       "      <td>2001</td>\n",
       "      <td>67.128962</td>\n",
       "    </tr>\n",
       "    <tr>\n",
       "      <th>2</th>\n",
       "      <td>2002</td>\n",
       "      <td>67.351366</td>\n",
       "    </tr>\n",
       "    <tr>\n",
       "      <th>3</th>\n",
       "      <td>2003</td>\n",
       "      <td>67.433333</td>\n",
       "    </tr>\n",
       "    <tr>\n",
       "      <th>4</th>\n",
       "      <td>2004</td>\n",
       "      <td>67.646448</td>\n",
       "    </tr>\n",
       "  </tbody>\n",
       "</table>\n",
       "</div>"
      ],
      "text/plain": [
       "   Year  Life Expectancy\n",
       "0  2000        66.750273\n",
       "1  2001        67.128962\n",
       "2  2002        67.351366\n",
       "3  2003        67.433333\n",
       "4  2004        67.646448"
      ]
     },
     "execution_count": 41,
     "metadata": {},
     "output_type": "execute_result"
    }
   ],
   "source": [
    "#Update life expectancy file so that Year is not an index and is able to merge with GDP file\n",
    "\n",
    "new_life = cleaned_life.groupby([\"Year\"]).mean()\n",
    "new_life.reset_index(level=0, inplace=True)\n",
    "new_life.head()\n"
   ]
  },
  {
   "cell_type": "code",
   "execution_count": 44,
   "metadata": {},
   "outputs": [],
   "source": [
    "#Update gdp summary file so that the Year column is integer and can merge with life expectancy\n",
    "\n",
    "gdp_summary_df['Year']=gdp_summary_df['Year'].astype(int)"
   ]
  },
  {
   "cell_type": "code",
   "execution_count": 45,
   "metadata": {},
   "outputs": [
    {
     "data": {
      "text/html": [
       "<div>\n",
       "<style scoped>\n",
       "    .dataframe tbody tr th:only-of-type {\n",
       "        vertical-align: middle;\n",
       "    }\n",
       "\n",
       "    .dataframe tbody tr th {\n",
       "        vertical-align: top;\n",
       "    }\n",
       "\n",
       "    .dataframe thead th {\n",
       "        text-align: right;\n",
       "    }\n",
       "</style>\n",
       "<table border=\"1\" class=\"dataframe\">\n",
       "  <thead>\n",
       "    <tr style=\"text-align: right;\">\n",
       "      <th></th>\n",
       "      <th>Year</th>\n",
       "      <th>Life Expectancy</th>\n",
       "      <th>count</th>\n",
       "      <th>mean</th>\n",
       "      <th>std</th>\n",
       "      <th>min</th>\n",
       "      <th>25%</th>\n",
       "      <th>50%</th>\n",
       "      <th>75%</th>\n",
       "      <th>max</th>\n",
       "    </tr>\n",
       "  </thead>\n",
       "  <tbody>\n",
       "    <tr>\n",
       "      <th>0</th>\n",
       "      <td>2000</td>\n",
       "      <td>66.750273</td>\n",
       "      <td>198.0</td>\n",
       "      <td>16.762140</td>\n",
       "      <td>83.755230</td>\n",
       "      <td>0.001374</td>\n",
       "      <td>0.173945</td>\n",
       "      <td>0.819837</td>\n",
       "      <td>5.318316</td>\n",
       "      <td>1025.234546</td>\n",
       "    </tr>\n",
       "    <tr>\n",
       "      <th>1</th>\n",
       "      <td>2001</td>\n",
       "      <td>67.128962</td>\n",
       "      <td>198.0</td>\n",
       "      <td>16.678424</td>\n",
       "      <td>84.315397</td>\n",
       "      <td>0.001320</td>\n",
       "      <td>0.168335</td>\n",
       "      <td>0.821834</td>\n",
       "      <td>5.396157</td>\n",
       "      <td>1058.182140</td>\n",
       "    </tr>\n",
       "    <tr>\n",
       "      <th>2</th>\n",
       "      <td>2002</td>\n",
       "      <td>67.351366</td>\n",
       "      <td>203.0</td>\n",
       "      <td>16.897966</td>\n",
       "      <td>85.626187</td>\n",
       "      <td>0.001545</td>\n",
       "      <td>0.182472</td>\n",
       "      <td>0.777508</td>\n",
       "      <td>5.576783</td>\n",
       "      <td>1093.641905</td>\n",
       "    </tr>\n",
       "    <tr>\n",
       "      <th>3</th>\n",
       "      <td>2003</td>\n",
       "      <td>67.433333</td>\n",
       "      <td>203.0</td>\n",
       "      <td>18.972229</td>\n",
       "      <td>91.202597</td>\n",
       "      <td>0.001823</td>\n",
       "      <td>0.232230</td>\n",
       "      <td>0.868323</td>\n",
       "      <td>6.401254</td>\n",
       "      <td>1145.824388</td>\n",
       "    </tr>\n",
       "    <tr>\n",
       "      <th>4</th>\n",
       "      <td>2004</td>\n",
       "      <td>67.646448</td>\n",
       "      <td>204.0</td>\n",
       "      <td>21.287228</td>\n",
       "      <td>98.138471</td>\n",
       "      <td>0.002153</td>\n",
       "      <td>0.280929</td>\n",
       "      <td>1.023246</td>\n",
       "      <td>7.594080</td>\n",
       "      <td>1221.372915</td>\n",
       "    </tr>\n",
       "  </tbody>\n",
       "</table>\n",
       "</div>"
      ],
      "text/plain": [
       "   Year  Life Expectancy  count       mean        std       min       25%  \\\n",
       "0  2000        66.750273  198.0  16.762140  83.755230  0.001374  0.173945   \n",
       "1  2001        67.128962  198.0  16.678424  84.315397  0.001320  0.168335   \n",
       "2  2002        67.351366  203.0  16.897966  85.626187  0.001545  0.182472   \n",
       "3  2003        67.433333  203.0  18.972229  91.202597  0.001823  0.232230   \n",
       "4  2004        67.646448  204.0  21.287228  98.138471  0.002153  0.280929   \n",
       "\n",
       "        50%       75%          max  \n",
       "0  0.819837  5.318316  1025.234546  \n",
       "1  0.821834  5.396157  1058.182140  \n",
       "2  0.777508  5.576783  1093.641905  \n",
       "3  0.868323  6.401254  1145.824388  \n",
       "4  1.023246  7.594080  1221.372915  "
      ]
     },
     "execution_count": 45,
     "metadata": {},
     "output_type": "execute_result"
    }
   ],
   "source": [
    "#Merge life expectancy and gdp file by year\n",
    "\n",
    "life_gdp_merge = pd.merge(new_life, gdp_summary_df, on='Year')\n",
    "life_gdp_merge.head()"
   ]
  },
  {
   "cell_type": "code",
   "execution_count": 50,
   "metadata": {},
   "outputs": [
    {
     "name": "stdout",
     "output_type": "stream",
     "text": [
      "The r-squared is: 0.9862126146288583\n"
     ]
    },
    {
     "data": {
      "image/png": "[encoded data removed]",
      "text/plain": [
       "<Figure size 432x288 with 1 Axes>"
      ]
     },
     "metadata": {
      "needs_background": "light"
     },
     "output_type": "display_data"
    }
   ],
   "source": [
    "#Graph average life expectancy over time versus average gdp\n",
    "x_values = life_gdp_merge['Life Expectancy']\n",
    "y_values = life_gdp_merge['mean']\n",
    "y_values = y_values.fillna(0)\n",
    "(slope, intercept, rvalue, pvalue, stderr) = linregress(x_values, y_values)\n",
    "regress_values = x_values * slope + intercept\n",
    "line_eq = \"y = \" + str(round(slope,2)) + \"x + \" + str(round(intercept,2))\n",
    "plt.scatter(x_values,y_values, alpha=0.5)\n",
    "plt.plot(x_values,regress_values,\"r-\")\n",
    "plt.annotate(line_eq,(69,20),fontsize=14,color=\"red\")\n",
    "plt.title(\"Life Expectancy versus GDP\")\n",
    "plt.xlabel(\"Life Expectancy\")\n",
    "plt.ylabel(\"GDP (Billion USD)\")\n",
    "print(f\"The r-squared is: {rvalue}\")\n",
    "\n",
    "#plt.savefig(\"LifeExp_vs_GDP.png\", bbox_inches = 'tight', pad_inches = 1.0)\n",
    "\n",
    "plt.show()"
   ]
  },
  {
   "cell_type": "code",
   "execution_count": 53,
   "metadata": {},
   "outputs": [
    {
     "name": "stdout",
     "output_type": "stream",
     "text": [
      "On average, for the life expectancy of 90 years old, the country GDP would have to be 123.82 billion USD.\n",
      "On average, for the life expectancy of 100 years old, the country GDP would have to be 170.15. billion USD\n"
     ]
    }
   ],
   "source": [
    "#Optional add (for fun)\n",
    "\n",
    "age = 90\n",
    "print(f\"On average, for the life expectancy of {age} years old, the country GDP would have to be {round(slope * age + intercept,2)} billion USD.\")\n",
    "age2 = 100\n",
    "print(f\"On average, for the life expectancy of {age2} years old, the country GDP would have to be {round(slope * age2 + intercept,2)}. billion USD\")"
   ]
  },
  {
   "cell_type": "code",
   "execution_count": null,
   "metadata": {},
   "outputs": [],
   "source": []
  }
 ],
 "metadata": {
  "kernelspec": {
   "display_name": "Python 3",
   "language": "python",
   "name": "python3"
  },
  "language_info": {
   "codemirror_mode": {
    "name": "ipython",
    "version": 3
   },
   "file_extension": ".py",
   "mimetype": "text/x-python",
   "name": "python",
   "nbconvert_exporter": "python",
   "pygments_lexer": "ipython3",
   "version": "3.6.9"
  }
 },
 "nbformat": 4,
 "nbformat_minor": 2
}
