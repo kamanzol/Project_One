{
 "cells": [
  {
   "cell_type": "code",
   "execution_count": null,
   "metadata": {},
   "outputs": [],
   "source": [
    "# Life expectancy at birth indicates the number of years a newborn infant would live if \n",
    "# prevailing patterns of mortality at the time of its birth were to stay the same throughout its life."
   ]
  },
  {
   "cell_type": "code",
   "execution_count": null,
   "metadata": {},
   "outputs": [],
   "source": [
    "#Dependencies\n",
    "\n",
    "import os\n",
    "import matplotlib.pyplot as plt\n",
    "import pandas as pd\n",
    "import numpy as np\n",
    "from scipy.stats import linregress\n",
    "import seaborn as sns\n",
    "from scipy import stats"
   ]
  },
  {
   "cell_type": "code",
   "execution_count": null,
   "metadata": {},
   "outputs": [],
   "source": [
    "#Import csv file - Life Expectancy.  This is for all countries 2000-2015\n",
    "# https://www.kaggle.com/kumarajarshi/life-expectancy-who/version/1\n",
    "\n",
    "#Import csv file - Life Expectancy since 1970 (44 countries)\n",
    "csv_path = \"Resources/Life_Expectancy.csv\"\n",
    "csv_path_2 = \"Resources/GDP_1970_to_2018.csv\"\n",
    "csv_path_3 = \"Resources/Life_1970.csv\"\n",
    "\n",
    "life_exp = pd.read_csv(csv_path)\n",
    "gdp_data = pd.read_csv(csv_path_2)\n",
    "life_exp_1970 = pd.read_csv(csv_path_3)\n"
   ]
  },
  {
   "cell_type": "code",
   "execution_count": null,
   "metadata": {},
   "outputs": [],
   "source": [
    "#clean-up csv\n",
    "\n",
    "reduced_life = life_exp[[\"Country\",\"Year\",\"Status\",\"Life expectancy \"]]\n",
    "cleaned_life = reduced_life.rename(columns={\"Life expectancy \":\"Life Expectancy\", \"Country\":\"Country Name\"})\n",
    "cleaned_life.head()"
   ]
  },
  {
   "cell_type": "code",
   "execution_count": null,
   "metadata": {},
   "outputs": [],
   "source": [
    "##life expectancy over time 2000-2015 with all countries\n",
    "\n",
    "cleaned_life.groupby('Year')['Life Expectancy'].mean().plot(kind='line')\n",
    "plt.title(\"Life Expectancy Between 2000-2015\")\n",
    "plt.xlabel(\"Year\")\n",
    "plt.ylabel(\"Life Expectancy (Age in Years)\")\n",
    "\n",
    "#plt.savefig(\"LifeExp_overtime.png\", bbox_inches = 'tight', pad_inches = 1.0)\n",
    "plt.show()"
   ]
  },
  {
   "cell_type": "code",
   "execution_count": null,
   "metadata": {},
   "outputs": [],
   "source": [
    "#Get mean life expectancy for all countries\n",
    "\n",
    "cleaned_life.groupby([\"Year\"]).mean()"
   ]
  },
  {
   "cell_type": "code",
   "execution_count": null,
   "metadata": {},
   "outputs": [],
   "source": [
    "#Add GDP mean\n",
    "\n",
    "gdp_summary_df = gdp_data.describe()\n",
    "gdp_summary_df = gdp_summary_df.T\n",
    "gdp_summary_df = gdp_summary_df.reset_index()\n",
    "gdp_summary_df = gdp_summary_df.rename(columns={'index':'Year'})\n",
    "gdp_summary_df.dropna()\n",
    "gdp_summary_df.head()"
   ]
  },
  {
   "cell_type": "code",
   "execution_count": null,
   "metadata": {},
   "outputs": [],
   "source": [
    "#Update life expectancy file so that Year is not an index and is able to merge with GDP file\n",
    "\n",
    "new_life = cleaned_life.groupby([\"Year\"]).mean()\n",
    "new_life.reset_index(level=0, inplace=True)\n",
    "new_life.head()\n"
   ]
  },
  {
   "cell_type": "code",
   "execution_count": null,
   "metadata": {},
   "outputs": [],
   "source": [
    "#Update gdp summary file so that the Year column is integer and can merge with life expectancy\n",
    "\n",
    "gdp_summary_df['Year']=gdp_summary_df['Year'].astype(int)"
   ]
  },
  {
   "cell_type": "code",
   "execution_count": null,
   "metadata": {},
   "outputs": [],
   "source": [
    "#Merge life expectancy and gdp file by year\n",
    "\n",
    "life_gdp_merge = pd.merge(new_life, gdp_summary_df, on='Year')\n",
    "life_gdp_merge.head()"
   ]
  },
  {
   "cell_type": "code",
   "execution_count": null,
   "metadata": {},
   "outputs": [],
   "source": [
    "#Graph average life expectancy over time versus average gdp\n",
    "x_values = life_gdp_merge['Life Expectancy']\n",
    "y_values = life_gdp_merge['mean']\n",
    "y_values = y_values.fillna(0)\n",
    "(slope, intercept, rvalue, pvalue, stderr) = linregress(x_values, y_values)\n",
    "regress_values = x_values * slope + intercept\n",
    "line_eq = \"y = \" + str(round(slope,2)) + \"x + \" + str(round(intercept,2))\n",
    "plt.scatter(x_values,y_values, alpha=0.5)\n",
    "plt.plot(x_values,regress_values,\"r-\")\n",
    "plt.annotate(line_eq,(69,20),fontsize=14,color=\"red\")\n",
    "plt.title(\"Life Expectancy versus GDP\")\n",
    "plt.xlabel(\"Life Expectancy\")\n",
    "plt.ylabel(\"GDP (Billion USD)\")\n",
    "print(f\"The r-squared is: {rvalue}\")\n",
    "\n",
    "#plt.savefig(\"LifeExp_vs_GDP.png\", bbox_inches = 'tight', pad_inches = 1.0)\n",
    "\n",
    "plt.show()"
   ]
  },
  {
   "cell_type": "code",
   "execution_count": null,
   "metadata": {},
   "outputs": [],
   "source": [
    "#Optional add (for fun)\n",
    "\n",
    "age = 90\n",
    "print(f\"On average, for the life expectancy of {age} years old, the country GDP would have to be {round(slope * age + intercept,2)} billion USD.\")\n",
    "age2 = 100\n",
    "print(f\"On average, for the life expectancy of {age2} years old, the country GDP would have to be {round(slope * age2 + intercept,2)}. billion USD\")"
   ]
  },
  {
   "cell_type": "code",
   "execution_count": null,
   "metadata": {},
   "outputs": [],
   "source": [
    "#Life Expectancy over time for 44 countries listed in life exp file from 1970-2017.\n",
    "\n",
    "life_exp_1970.groupby('TIME')['Value'].mean().plot(kind='line')\n",
    "plt.title(\"Life Expectancy Over Time\")\n",
    "plt.xlabel(\"Year\")\n",
    "plt.ylabel(\"Life Expectancy (in Years)\")\n",
    "\n",
    "#plt.savefig(\"LifeExp_all.png\", bbox_inches = 'tight', pad_inches = 1.0)\n",
    "plt.show()"
   ]
  },
  {
   "cell_type": "code",
   "execution_count": null,
   "metadata": {},
   "outputs": [],
   "source": [
    "#Read in life expectancy from 1970 file.  File only contains 44 countries, so pulling to help show\n",
    "#USA trend\n",
    "\n",
    "usa_1970 = life_exp_1970.loc[life_exp_1970['LOCATION'] =='USA']\n",
    "usa_1970.head()"
   ]
  },
  {
   "cell_type": "code",
   "execution_count": null,
   "metadata": {},
   "outputs": [],
   "source": [
    "#life expectancy over time for both men and women in USA 1970-2017\n",
    "\n",
    "total_1970 = usa_1970.loc[usa_1970['SUBJECT'] =='TOT']\n",
    "\n",
    "total_1970.plot(x=\"TIME\", y=\"Value\", kind='line', legend=False)\n",
    "plt.title(\"Life Expectancy in USA from 1970\")\n",
    "plt.xlabel(\"Year\")\n",
    "plt.ylabel(\"Life Expectancy (in Years)\")\n",
    "#plt.savefig(\"LifeExp_USA.png\", bbox_inches = 'tight', pad_inches = 1.0)\n",
    "\n",
    "plt.show()"
   ]
  },
  {
   "cell_type": "code",
   "execution_count": null,
   "metadata": {},
   "outputs": [],
   "source": [
    "#Filter out for the year 2000 on the life exp file 2000-2015\n",
    "\n",
    "year_2000 = cleaned_life.loc[life_exp['Year'] ==2000]\n",
    "year_2000.head()"
   ]
  },
  {
   "cell_type": "code",
   "execution_count": null,
   "metadata": {},
   "outputs": [],
   "source": [
    "#Merge life expectancy for the year 2000 and gdp data\n",
    "\n",
    "merge_2000_gdp = pd.merge(year_2000, gdp_data, on='Country Name')\n",
    "merge_2000_gdp\n"
   ]
  },
  {
   "cell_type": "code",
   "execution_count": null,
   "metadata": {},
   "outputs": [],
   "source": [
    "#Filtering out USA and Japan since GDP are outliers\n",
    "\n",
    "merge_2000_gdp = merge_2000_gdp[merge_2000_gdp['Country Name'] != 'United States of America']\n",
    "merge_2000_gdp = merge_2000_gdp[merge_2000_gdp['Country Name'] != 'Japan']"
   ]
  },
  {
   "cell_type": "code",
   "execution_count": null,
   "metadata": {},
   "outputs": [],
   "source": [
    "#Life expectancy versus GDP in 2000\n",
    "\n",
    "x_values = merge_2000_gdp['Life Expectancy']\n",
    "y_values = merge_2000_gdp['2000']\n",
    "y_values = y_values.fillna(0)\n",
    "(slope, intercept, rvalue, pvalue, stderr) = linregress(x_values, y_values)\n",
    "regress_values = x_values * slope + intercept\n",
    "line_eq = \"y = \" + str(round(slope,2)) + \"x + \" + str(round(intercept,2))\n",
    "plt.scatter(x_values,y_values, alpha=0.5)\n",
    "plt.plot(x_values,regress_values,\"r-\")\n",
    "plt.annotate(line_eq,(40,50),fontsize=14,color=\"red\")\n",
    "plt.title(\"Life Expectancy versus GDP in 2000\")\n",
    "plt.xlabel(\"Life Expectancy (in Years)\")\n",
    "plt.ylabel(\"GDP (in Billions USD)\")\n",
    "print(f\"The r-squared is: {rvalue}\")\n",
    "\n",
    "print(f\"Slope is: {slope}\")\n",
    "\n",
    "#plt.savefig(\"LifeExp_vs_GDP_2000.png\", bbox_inches = 'tight', pad_inches = 1.0)\n",
    "\n",
    "plt.show()"
   ]
  },
  {
   "cell_type": "code",
   "execution_count": null,
   "metadata": {},
   "outputs": [],
   "source": []
  }
 ],
 "metadata": {
  "kernelspec": {
   "display_name": "Python 3",
   "language": "python",
   "name": "python3"
  },
  "language_info": {
   "codemirror_mode": {
    "name": "ipython",
    "version": 3
   },
   "file_extension": ".py",
   "mimetype": "text/x-python",
   "name": "python",
   "nbconvert_exporter": "python",
   "pygments_lexer": "ipython3",
   "version": "3.6.9"
  }
 },
 "nbformat": 4,
 "nbformat_minor": 2
}
