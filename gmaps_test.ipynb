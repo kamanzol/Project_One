{
 "cells": [
  {
   "cell_type": "code",
   "execution_count": 322,
   "metadata": {},
   "outputs": [],
   "source": [
    "import json\n",
    "import requests\n",
    "from api_keys import g_key\n",
    "import gmaps\n",
    "import pandas as pd\n",
    "import os\n",
    "from matplotlib.cm import Reds\n",
    "from matplotlib.colors import to_hex\n",
    "\n",
    "gmaps.configure(api_key = g_key)\n",
    "\n",
    "countries_string = requests.get(\n",
    "    \"https://raw.githubusercontent.com/johan/world.geo.json/master/countries.geo.json\"\n",
    ").content\n",
    "countries = json.loads(countries_string)"
   ]
  },
  {
   "cell_type": "code",
   "execution_count": 323,
   "metadata": {},
   "outputs": [
    {
     "data": {
      "application/vnd.jupyter.widget-view+json": {
       "model_id": "95f1cc0dbb2a4497bea2e6dd7700561c",
       "version_major": 2,
       "version_minor": 0
      },
      "text/plain": [
       "Figure(layout=FigureLayout(border='1px solid black', height='800px', margin='0 auto 0 auto', padding='0px', wi…"
      ]
     },
     "metadata": {},
     "output_type": "display_data"
    }
   ],
   "source": [
    "# Customize the size of the figure\n",
    "figure_layout = {\n",
    "    'width': '1000px',\n",
    "    'height': '800px',\n",
    "    'border': '1px solid black',\n",
    "    'padding': '0px',\n",
    "    'margin': '0 auto 0 auto'\n",
    "}\n",
    "fig = gmaps.figure(zoom_level = 2, center = (40,10), layout=figure_layout)\n",
    "geojson = gmaps.geojson_layer(countries, fill_opacity=0.05, stroke_weight=2)\n",
    "fig.add_layer(geojson)\n",
    "fig"
   ]
  },
  {
   "cell_type": "code",
   "execution_count": 324,
   "metadata": {},
   "outputs": [
    {
     "data": {
      "text/html": [
       "<div>\n",
       "<style scoped>\n",
       "    .dataframe tbody tr th:only-of-type {\n",
       "        vertical-align: middle;\n",
       "    }\n",
       "\n",
       "    .dataframe tbody tr th {\n",
       "        vertical-align: top;\n",
       "    }\n",
       "\n",
       "    .dataframe thead th {\n",
       "        text-align: right;\n",
       "    }\n",
       "</style>\n",
       "<table border=\"1\" class=\"dataframe\">\n",
       "  <thead>\n",
       "    <tr style=\"text-align: right;\">\n",
       "      <th></th>\n",
       "      <th>Country Name</th>\n",
       "      <th>Country Code</th>\n",
       "      <th>1970</th>\n",
       "      <th>1971</th>\n",
       "      <th>1972</th>\n",
       "      <th>1973</th>\n",
       "      <th>1974</th>\n",
       "      <th>1975</th>\n",
       "      <th>1976</th>\n",
       "      <th>1977</th>\n",
       "      <th>...</th>\n",
       "      <th>2010</th>\n",
       "      <th>2011</th>\n",
       "      <th>2012</th>\n",
       "      <th>2013</th>\n",
       "      <th>2014</th>\n",
       "      <th>2015</th>\n",
       "      <th>2016</th>\n",
       "      <th>2017</th>\n",
       "      <th>2018</th>\n",
       "      <th>2019</th>\n",
       "    </tr>\n",
       "  </thead>\n",
       "  <tbody>\n",
       "    <tr>\n",
       "      <th>0</th>\n",
       "      <td>Afghanistan</td>\n",
       "      <td>AFG</td>\n",
       "      <td>0.174889</td>\n",
       "      <td>0.183111</td>\n",
       "      <td>0.159556</td>\n",
       "      <td>0.173333</td>\n",
       "      <td>0.215556</td>\n",
       "      <td>0.236667</td>\n",
       "      <td>0.255556</td>\n",
       "      <td>0.295333</td>\n",
       "      <td>...</td>\n",
       "      <td>1.585657</td>\n",
       "      <td>1.780428</td>\n",
       "      <td>2.000162</td>\n",
       "      <td>2.056105</td>\n",
       "      <td>2.048487</td>\n",
       "      <td>1.990711</td>\n",
       "      <td>1.936264</td>\n",
       "      <td>2.019176</td>\n",
       "      <td>1.936297</td>\n",
       "      <td>NaN</td>\n",
       "    </tr>\n",
       "    <tr>\n",
       "      <th>1</th>\n",
       "      <td>Albania</td>\n",
       "      <td>ALB</td>\n",
       "      <td>NaN</td>\n",
       "      <td>NaN</td>\n",
       "      <td>NaN</td>\n",
       "      <td>NaN</td>\n",
       "      <td>NaN</td>\n",
       "      <td>NaN</td>\n",
       "      <td>NaN</td>\n",
       "      <td>NaN</td>\n",
       "      <td>...</td>\n",
       "      <td>1.192696</td>\n",
       "      <td>1.289087</td>\n",
       "      <td>1.231978</td>\n",
       "      <td>1.277628</td>\n",
       "      <td>1.322824</td>\n",
       "      <td>1.138693</td>\n",
       "      <td>1.186135</td>\n",
       "      <td>1.302506</td>\n",
       "      <td>1.510250</td>\n",
       "      <td>NaN</td>\n",
       "    </tr>\n",
       "    <tr>\n",
       "      <th>2</th>\n",
       "      <td>Algeria</td>\n",
       "      <td>DZA</td>\n",
       "      <td>0.486349</td>\n",
       "      <td>0.507722</td>\n",
       "      <td>0.676179</td>\n",
       "      <td>0.871511</td>\n",
       "      <td>1.320971</td>\n",
       "      <td>1.555793</td>\n",
       "      <td>1.772835</td>\n",
       "      <td>2.097190</td>\n",
       "      <td>...</td>\n",
       "      <td>16.120507</td>\n",
       "      <td>20.001536</td>\n",
       "      <td>20.906289</td>\n",
       "      <td>20.975476</td>\n",
       "      <td>21.380881</td>\n",
       "      <td>16.597843</td>\n",
       "      <td>16.003293</td>\n",
       "      <td>16.739027</td>\n",
       "      <td>17.375795</td>\n",
       "      <td>NaN</td>\n",
       "    </tr>\n",
       "    <tr>\n",
       "      <th>3</th>\n",
       "      <td>American Samoa</td>\n",
       "      <td>ASM</td>\n",
       "      <td>NaN</td>\n",
       "      <td>NaN</td>\n",
       "      <td>NaN</td>\n",
       "      <td>NaN</td>\n",
       "      <td>NaN</td>\n",
       "      <td>NaN</td>\n",
       "      <td>NaN</td>\n",
       "      <td>NaN</td>\n",
       "      <td>...</td>\n",
       "      <td>0.057600</td>\n",
       "      <td>0.057400</td>\n",
       "      <td>0.064400</td>\n",
       "      <td>0.064100</td>\n",
       "      <td>0.064200</td>\n",
       "      <td>0.066100</td>\n",
       "      <td>0.065200</td>\n",
       "      <td>0.060200</td>\n",
       "      <td>0.063600</td>\n",
       "      <td>NaN</td>\n",
       "    </tr>\n",
       "    <tr>\n",
       "      <th>4</th>\n",
       "      <td>Andorra</td>\n",
       "      <td>AND</td>\n",
       "      <td>0.007862</td>\n",
       "      <td>0.008941</td>\n",
       "      <td>0.011341</td>\n",
       "      <td>0.015082</td>\n",
       "      <td>0.018656</td>\n",
       "      <td>0.022013</td>\n",
       "      <td>0.022728</td>\n",
       "      <td>0.025402</td>\n",
       "      <td>...</td>\n",
       "      <td>0.335570</td>\n",
       "      <td>0.344206</td>\n",
       "      <td>0.316462</td>\n",
       "      <td>0.328159</td>\n",
       "      <td>0.335074</td>\n",
       "      <td>0.281149</td>\n",
       "      <td>0.287731</td>\n",
       "      <td>0.301339</td>\n",
       "      <td>0.323654</td>\n",
       "      <td>NaN</td>\n",
       "    </tr>\n",
       "  </tbody>\n",
       "</table>\n",
       "<p>5 rows × 52 columns</p>\n",
       "</div>"
      ],
      "text/plain": [
       "     Country Name Country Code      1970      1971      1972      1973  \\\n",
       "0     Afghanistan          AFG  0.174889  0.183111  0.159556  0.173333   \n",
       "1         Albania          ALB       NaN       NaN       NaN       NaN   \n",
       "2         Algeria          DZA  0.486349  0.507722  0.676179  0.871511   \n",
       "3  American Samoa          ASM       NaN       NaN       NaN       NaN   \n",
       "4         Andorra          AND  0.007862  0.008941  0.011341  0.015082   \n",
       "\n",
       "       1974      1975      1976      1977  ...       2010       2011  \\\n",
       "0  0.215556  0.236667  0.255556  0.295333  ...   1.585657   1.780428   \n",
       "1       NaN       NaN       NaN       NaN  ...   1.192696   1.289087   \n",
       "2  1.320971  1.555793  1.772835  2.097190  ...  16.120507  20.001536   \n",
       "3       NaN       NaN       NaN       NaN  ...   0.057600   0.057400   \n",
       "4  0.018656  0.022013  0.022728  0.025402  ...   0.335570   0.344206   \n",
       "\n",
       "        2012       2013       2014       2015       2016       2017  \\\n",
       "0   2.000162   2.056105   2.048487   1.990711   1.936264   2.019176   \n",
       "1   1.231978   1.277628   1.322824   1.138693   1.186135   1.302506   \n",
       "2  20.906289  20.975476  21.380881  16.597843  16.003293  16.739027   \n",
       "3   0.064400   0.064100   0.064200   0.066100   0.065200   0.060200   \n",
       "4   0.316462   0.328159   0.335074   0.281149   0.287731   0.301339   \n",
       "\n",
       "        2018  2019  \n",
       "0   1.936297   NaN  \n",
       "1   1.510250   NaN  \n",
       "2  17.375795   NaN  \n",
       "3   0.063600   NaN  \n",
       "4   0.323654   NaN  \n",
       "\n",
       "[5 rows x 52 columns]"
      ]
     },
     "execution_count": 324,
     "metadata": {},
     "output_type": "execute_result"
    }
   ],
   "source": [
    "csv_file = os.path.join('GDP_1970_to_2018.csv')\n",
    "csv_file\n",
    "gdp_data = pd.read_csv(csv_file)\n",
    "gdp_data.head()"
   ]
  },
  {
   "cell_type": "code",
   "execution_count": 325,
   "metadata": {},
   "outputs": [
    {
     "data": {
      "text/html": [
       "<div>\n",
       "<style scoped>\n",
       "    .dataframe tbody tr th:only-of-type {\n",
       "        vertical-align: middle;\n",
       "    }\n",
       "\n",
       "    .dataframe tbody tr th {\n",
       "        vertical-align: top;\n",
       "    }\n",
       "\n",
       "    .dataframe thead th {\n",
       "        text-align: right;\n",
       "    }\n",
       "</style>\n",
       "<table border=\"1\" class=\"dataframe\">\n",
       "  <thead>\n",
       "    <tr style=\"text-align: right;\">\n",
       "      <th></th>\n",
       "      <th>Country Name</th>\n",
       "      <th>Country Code</th>\n",
       "      <th>1970</th>\n",
       "    </tr>\n",
       "  </thead>\n",
       "  <tbody>\n",
       "    <tr>\n",
       "      <th>0</th>\n",
       "      <td>Afghanistan</td>\n",
       "      <td>AFG</td>\n",
       "      <td>0.174889</td>\n",
       "    </tr>\n",
       "    <tr>\n",
       "      <th>1</th>\n",
       "      <td>Albania</td>\n",
       "      <td>ALB</td>\n",
       "      <td>NaN</td>\n",
       "    </tr>\n",
       "    <tr>\n",
       "      <th>2</th>\n",
       "      <td>Algeria</td>\n",
       "      <td>DZA</td>\n",
       "      <td>0.486349</td>\n",
       "    </tr>\n",
       "    <tr>\n",
       "      <th>3</th>\n",
       "      <td>American Samoa</td>\n",
       "      <td>ASM</td>\n",
       "      <td>NaN</td>\n",
       "    </tr>\n",
       "    <tr>\n",
       "      <th>4</th>\n",
       "      <td>Andorra</td>\n",
       "      <td>AND</td>\n",
       "      <td>0.007862</td>\n",
       "    </tr>\n",
       "  </tbody>\n",
       "</table>\n",
       "</div>"
      ],
      "text/plain": [
       "     Country Name Country Code      1970\n",
       "0     Afghanistan          AFG  0.174889\n",
       "1         Albania          ALB       NaN\n",
       "2         Algeria          DZA  0.486349\n",
       "3  American Samoa          ASM       NaN\n",
       "4         Andorra          AND  0.007862"
      ]
     },
     "execution_count": 325,
     "metadata": {},
     "output_type": "execute_result"
    }
   ],
   "source": [
    "gdp_in_1970 = gdp_data[['Country Name','Country Code','1970']]\n",
    "gdp_in_1970.head()"
   ]
  },
  {
   "cell_type": "code",
   "execution_count": 326,
   "metadata": {},
   "outputs": [],
   "source": [
    "common_country_names = []\n",
    "common_country_gdp = []\n",
    "\n",
    "for feature in countries['features']:\n",
    "    gmap_country_name = feature['properties']['name']\n",
    "    if gmap_country_name in list(gdp_in_1970['Country Name']):\n",
    "        common_country_names.append(gmap_country_name)\n",
    "        common_country_gdp.append(list(gdp_in_1970[gdp_in_1970['Country Name'] == gmap_country_name]['1970']))"
   ]
  },
  {
   "cell_type": "code",
   "execution_count": 327,
   "metadata": {},
   "outputs": [
    {
     "data": {
      "text/plain": [
       "'Afghanistan'"
      ]
     },
     "execution_count": 327,
     "metadata": {},
     "output_type": "execute_result"
    }
   ],
   "source": [
    "common_country_names[0]"
   ]
  },
  {
   "cell_type": "code",
   "execution_count": 328,
   "metadata": {},
   "outputs": [],
   "source": [
    "test_gdp = []\n",
    "for _ in range(0,len(common_country_gdp)):\n",
    "    test_gdp.append(common_country_gdp[_][0])"
   ]
  },
  {
   "cell_type": "code",
   "execution_count": 329,
   "metadata": {},
   "outputs": [
    {
     "data": {
      "text/plain": [
       "147"
      ]
     },
     "execution_count": 329,
     "metadata": {},
     "output_type": "execute_result"
    }
   ],
   "source": [
    "len(test_gdp)"
   ]
  },
  {
   "cell_type": "code",
   "execution_count": 330,
   "metadata": {},
   "outputs": [],
   "source": [
    "test_dict = gdp_in_1970.to_dict('records')"
   ]
  },
  {
   "cell_type": "code",
   "execution_count": 331,
   "metadata": {},
   "outputs": [],
   "source": [
    "gdp_list = []\n",
    "for _ in range(0,147):\n",
    "    temp_tuple = (common_country_names[_],test_gdp[_])\n",
    "    gdp_list.append(temp_tuple)"
   ]
  },
  {
   "cell_type": "code",
   "execution_count": 332,
   "metadata": {},
   "outputs": [
    {
     "data": {
      "text/plain": [
       "147"
      ]
     },
     "execution_count": 332,
     "metadata": {},
     "output_type": "execute_result"
    }
   ],
   "source": [
    "len(gdp_list)"
   ]
  },
  {
   "cell_type": "code",
   "execution_count": 333,
   "metadata": {},
   "outputs": [],
   "source": [
    "country2gdp = dict(gdp_list)"
   ]
  },
  {
   "cell_type": "code",
   "execution_count": 334,
   "metadata": {},
   "outputs": [],
   "source": [
    "# We will need to scale the GDP values to lie between 0 and 1\n",
    "min_gdp = min(country2gdp.values())\n",
    "max_gdp = max(country2gdp.values())\n",
    "gdp_range = max_gdp - min_gdp\n",
    "\n",
    "def calculate_color(gdp_value):\n",
    "    \"\"\"\n",
    "    Convert the GDP coefficient to a color\n",
    "    \"\"\"\n",
    "    # make gini a number between 0 and 1\n",
    "    normalized_gdp = (gdp_value - min_gdp) / gdp_range\n",
    "\n",
    "    # invert gini so that high inequality gives dark color\n",
    "    inverse_gdp = 1.0 - normalized_gdp\n",
    "\n",
    "    # transform the gini coefficient to a matplotlib color\n",
    "    mpl_color = Reds(inverse_gdp)\n",
    "\n",
    "    # transform from a matplotlib color to a valid CSS color\n",
    "    gmaps_color = to_hex(mpl_color, keep_alpha=False)\n",
    "\n",
    "    return gmaps_color"
   ]
  },
  {
   "cell_type": "code",
   "execution_count": null,
   "metadata": {},
   "outputs": [],
   "source": []
  },
  {
   "cell_type": "code",
   "execution_count": 335,
   "metadata": {},
   "outputs": [],
   "source": [
    "#  build an array of colors, one for each country\n",
    "colors = []\n",
    "for feature in countries['features']:\n",
    "    country_name = feature['properties']['name']\n",
    "    try:\n",
    "        gdp = country2gdp[country_name]\n",
    "        color = calculate_color(gdp)\n",
    "    except KeyError:\n",
    "        # no gdp for that country: return default color\n",
    "        color = (0, 0, 0, 0.3)\n",
    "    colors.append(color)\n",
    "#     counter = counter + 1"
   ]
  },
  {
   "cell_type": "code",
   "execution_count": 336,
   "metadata": {},
   "outputs": [
    {
     "data": {
      "application/vnd.jupyter.widget-view+json": {
       "model_id": "c427571ec2354738b6cc7971a6143838",
       "version_major": 2,
       "version_minor": 0
      },
      "text/plain": [
       "Figure(layout=FigureLayout(border='1px solid black', height='800px', margin='0 auto 0 auto', padding='0px', wi…"
      ]
     },
     "metadata": {},
     "output_type": "display_data"
    }
   ],
   "source": [
    "# fig = gmaps.figure()\n",
    "\n",
    "figure_layout = {\n",
    "    'width': '1000px',\n",
    "    'height': '800px',\n",
    "    'border': '1px solid black',\n",
    "    'padding': '0px',\n",
    "    'margin': '0 auto 0 auto'\n",
    "}\n",
    "fig = gmaps.figure(zoom_level = 2, center = (40,10), layout=figure_layout)\n",
    "geojson = gmaps.geojson_layer(countries, fill_opacity=0.05, stroke_weight=2)\n",
    "gdp_layer = gmaps.geojson_layer(countries,fill_color=colors, fill_opacity = 0.8, stroke_weight=2)\n",
    "fig.add_layer(geojson)\n",
    "fig\n",
    "\n",
    "fig.add_layer(gdp_layer)\n",
    "fig"
   ]
  },
  {
   "cell_type": "code",
   "execution_count": null,
   "metadata": {},
   "outputs": [],
   "source": []
  }
 ],
 "metadata": {
  "kernelspec": {
   "display_name": "Python 3",
   "language": "python",
   "name": "python3"
  },
  "language_info": {
   "codemirror_mode": {
    "name": "ipython",
    "version": 3
   },
   "file_extension": ".py",
   "mimetype": "text/x-python",
   "name": "python",
   "nbconvert_exporter": "python",
   "pygments_lexer": "ipython3",
   "version": "3.7.3"
  }
 },
 "nbformat": 4,
 "nbformat_minor": 4
}
